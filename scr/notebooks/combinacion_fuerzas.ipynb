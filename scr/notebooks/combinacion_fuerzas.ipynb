{
 "cells": [
  {
   "cell_type": "markdown",
   "id": "6d0c4f80-5541-49f5-a6a5-222a1f8c7890",
   "metadata": {},
   "source": [
    "### Combinacion de fuerzas de representante e IVA\n"
   ]
  },
  {
   "cell_type": "code",
   "execution_count": null,
   "id": "8df988ed-c602-422e-9d0b-90618627454d",
   "metadata": {},
   "outputs": [],
   "source": [
    "from pyspark.sql import SparkSession\n",
    "from pyspark.sql.functions import *\n",
    "from pyspark import SparkContext, SparkConf\n",
    "import pyspark\n",
    "import pandas as pd\n",
    "import warnings\n",
    "warnings.filterwarnings('ignore', category=DeprecationWarning)\n",
    "from pyspark.sql.types import StringType,TimestampType\n",
    "from pyspark_dist_explore import hist\n",
    "import matplotlib.pyplot as plt\n"
   ]
  },
  {
   "cell_type": "code",
   "execution_count": null,
   "id": "f7d9bf72-5961-4112-b406-1ac965fd7bb6",
   "metadata": {},
   "outputs": [],
   "source": [
    "#  .config(\"spark.executor.instances\", \"10\") \\\n",
    "\n",
    "spark = SparkSession.builder \\\n",
    "  .appName(\"Test\")  \\\n",
    "  .config(\"spark.yarn.access.hadoopFileSystems\",\"abfs://data@datalakesii.dfs.core.windows.net/\") \\\n",
    "  .config(\"spark.executor.memory\", \"16g\") \\\n",
    "  .config(\"spark.driver.memory\", \"12g\")\\\n",
    "  .config(\"spark.executor.cores\", \"2\") \\\n",
    "  .config(\"spark.driver.maxResultSize\", \"12g\") \\\n",
    "  .getOrCreate()\n",
    "\n",
    "warnings.filterwarnings('ignore', category=DeprecationWarning)\n",
    "sc=spark.sparkContext\n",
    "sc.setLogLevel ('ERROR')\n",
    "spark.conf.set(\"spark.sql.parquet.int96RebaseModeInRead\", \"CORRECTED\")"
   ]
  },
  {
   "cell_type": "code",
   "execution_count": null,
   "id": "e5fe1cb4-ad10-4e38-9e5d-fe32fc742d4d",
   "metadata": {},
   "outputs": [],
   "source": [
    "spark.read.options(header=True,inferSchema=True,delimiter=\",\").csv(\"data/processed/fuerza_representante.csv\").createOrReplaceTempView(\"fuerza1\")\n",
    "spark.read.options(header=True,inferSchema=True,delimiter=\",\").csv(\"data/processed/fuerza_iva.csv\").createOrReplaceTempView(\"fuerza2\")"
   ]
  },
  {
   "cell_type": "code",
   "execution_count": null,
   "id": "4bb3477c-ca32-4a2b-92da-70216463a901",
   "metadata": {},
   "outputs": [],
   "source": [
    "spark.sql(\"SELECT fuerza1.emisor as emisor1, fuerza1.receptor as receptor1, fuerza2.emisor as emisor2, fuerza2.receptor as receptor2, fuerza1.Fi as Fi1, fuerza2.Fi as Fi2 from fuerza1 full join fuerza2 on (fuerza1.emisor=fuerza2.emisor and fuerza1.receptor=fuerza2.receptor)\").createOrReplaceTempView(\"fuerza\") "
   ]
  },
  {
   "cell_type": "code",
   "execution_count": null,
   "id": "7c5c5f8f-20ba-4f0d-a6b1-ee15079dfc9a",
   "metadata": {},
   "outputs": [],
   "source": [
    "spark.sql(\"SELECT case when emisor1 is null then emisor2 else emisor1 end as emisor, case when receptor1 is null then receptor2 else receptor1 end as receptor, case when Fi1 is null then Fi2 else Fi1 end as FiA, case when Fi2 is null then Fi1 else Fi2 end as FiB  from fuerza\").createOrReplaceTempView(\"fuerza\")\n"
   ]
  },
  {
   "cell_type": "code",
   "execution_count": null,
   "id": "f854dbf3-42ee-43dc-a6c5-a47b4e7972f0",
   "metadata": {},
   "outputs": [],
   "source": [
    "spark.sql(\"SELECT emisor, receptor, (FiA/2+FiB/2) as Fi from fuerza\").createOrReplaceTempView(\"fuerza\")\n",
    "\n",
    "df=spark.sql(\"SELECT * from fuerza where Fi>0\")\n",
    "\n",
    "df.write.mode('overwrite').format(\"parquet\").save(\"abfs://data@datalakesii.dfs.core.windows.net/DatosOrigen/lr-629/contaminacion/fuerza_iva_representante\")\n",
    "\n",
    "spark.read.parquet(\"abfs://data@datalakesii.dfs.core.windows.net/DatosOrigen/lr-629/contaminacion/fuerza_iva_representante\").createOrReplaceTempView(\"fuerza\")\n",
    "\n",
    "df2=spark.sql(\"SELECT * from fuerza\").toPandas()\n",
    "\n",
    "df2.to_csv(\"data/processed/fuerza_iva_representante.csv\", index=False)"
   ]
  }
 ],
 "metadata": {
  "kernelspec": {
   "display_name": "Python 3 (ipykernel)",
   "language": "python",
   "name": "python3"
  },
  "language_info": {
   "codemirror_mode": {
    "name": "ipython",
    "version": 3
   },
   "file_extension": ".py",
   "mimetype": "text/x-python",
   "name": "python",
   "nbconvert_exporter": "python",
   "pygments_lexer": "ipython3",
   "version": "3.10.13"
  }
 },
 "nbformat": 4,
 "nbformat_minor": 5
}
