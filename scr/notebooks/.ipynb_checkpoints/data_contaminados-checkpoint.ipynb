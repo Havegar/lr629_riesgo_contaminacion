{
 "cells": [
  {
   "cell_type": "code",
   "execution_count": 1,
   "id": "25fa7e0e-a70f-4278-88fd-a75be5c2a427",
   "metadata": {
    "tags": []
   },
   "outputs": [],
   "source": [
    "from pyspark.sql import SparkSession\n",
    "from pyspark.sql.functions import *\n",
    "from pyspark import SparkContext, SparkConf\n",
    "import pyspark\n",
    "import pandas as pd\n",
    "import warnings\n",
    "warnings.filterwarnings('ignore', category=DeprecationWarning)"
   ]
  },
  {
   "cell_type": "code",
   "execution_count": 2,
   "id": "963a50a8-c3d1-4109-8190-57b5a75f166e",
   "metadata": {
    "tags": []
   },
   "outputs": [
    {
     "name": "stderr",
     "output_type": "stream",
     "text": [
      "Setting spark.hadoop.yarn.resourcemanager.principal to hvega.externo\n"
     ]
    }
   ],
   "source": [
    "spark = SparkSession.builder \\\n",
    "  .appName(\"Test\")  \\\n",
    "  .config(\"spark.yarn.access.hadoopFileSystems\",\"abfs://data@datalakesii.dfs.core.windows.net/\") \\\n",
    "  .config(\"spark.executor.memory\", \"24g\") \\\n",
    "  .config(\"spark.driver.memory\", \"12g\")\\\n",
    "  .config(\"spark.executor.cores\", \"12\") \\\n",
    "  .config(\"spark.executor.instances\", \"24\") \\\n",
    "  .config(\"spark.driver.maxResultSize\", \"12g\") \\\n",
    "  .getOrCreate()"
   ]
  },
  {
   "cell_type": "code",
   "execution_count": 3,
   "id": "932d5565-949b-4baf-a880-65fc171cd9fd",
   "metadata": {
    "tags": []
   },
   "outputs": [
    {
     "name": "stderr",
     "output_type": "stream",
     "text": [
      "                                                                                \r"
     ]
    }
   ],
   "source": [
    "spark.read.parquet(\"abfs://data@datalakesii.dfs.core.windows.net/DatosOrigen/DW/DW_TRN_ALERTAS_E\").createOrReplaceTempView(\"alertas\")\n"
   ]
  },
  {
   "cell_type": "code",
   "execution_count": 4,
   "id": "de2a0810-f601-4fd4-a552-45bf7fdc1dd7",
   "metadata": {
    "tags": []
   },
   "outputs": [
    {
     "name": "stderr",
     "output_type": "stream",
     "text": [
      "Hive Session ID = fc930023-6862-424e-910b-d63b4bfa9cf9\n",
      "[Stage 1:========================================================>(62 + 1) / 63]"
     ]
    },
    {
     "name": "stdout",
     "output_type": "stream",
     "text": [
      "+---------+\n",
      "| count(1)|\n",
      "+---------+\n",
      "|128666537|\n",
      "+---------+\n",
      "\n"
     ]
    },
    {
     "name": "stderr",
     "output_type": "stream",
     "text": [
      "                                                                                \r"
     ]
    }
   ],
   "source": [
    "spark.sql(\"SELECT count(*) FROM alertas\").show()"
   ]
  },
  {
   "cell_type": "code",
   "execution_count": 5,
   "id": "5018ac26-a951-4ba8-a5f0-8131872d9090",
   "metadata": {
    "tags": []
   },
   "outputs": [],
   "source": [
    "spark.sql(\"select * from alertas where aler_cod_tipo_alerta_vo='4110' OR aler_cod_tipo_alerta_vo='4111' OR aler_cod_tipo_alerta_vo='4112' OR aler_cod_tipo_alerta_vo='4113' AND aler_fecha_desactiv_vo IS NULL\").createOrReplaceTempView(\"alertas\")"
   ]
  },
  {
   "cell_type": "code",
   "execution_count": 6,
   "id": "9a1a8199-ca05-4632-a98d-4fffaa2b5279",
   "metadata": {},
   "outputs": [],
   "source": [
    "spark.sql(\"SELECT aler_desc_tipo_alerta_vo,cont_rut FROM alertas\").createOrReplaceTempView(\"alertas\")"
   ]
  },
  {
   "cell_type": "code",
   "execution_count": 7,
   "id": "eaec2348-0f70-4ded-9324-cccf2f7759b6",
   "metadata": {},
   "outputs": [
    {
     "name": "stderr",
     "output_type": "stream",
     "text": [
      "                                                                                \r"
     ]
    },
    {
     "name": "stdout",
     "output_type": "stream",
     "text": [
      "+------------------------+-----+\n",
      "|aler_desc_tipo_alerta_vo|count|\n",
      "+------------------------+-----+\n",
      "|    SOCIO Y/O REPRESE...|10827|\n",
      "|    EMISOR CON ANTECE...| 7486|\n",
      "|    PRESENTA SITUACIO...| 3231|\n",
      "|    EMISOR Y RECEPTOR...| 1899|\n",
      "|    EMISOR CON ANTECE...| 3226|\n",
      "+------------------------+-----+\n",
      "\n"
     ]
    }
   ],
   "source": [
    "spark.sql(\"SELECT aler_desc_tipo_alerta_vo, count(*) as count FROM alertas group by aler_desc_tipo_alerta_vo \").show()"
   ]
  },
  {
   "cell_type": "code",
   "execution_count": null,
   "id": "19af7ecb-5d8a-4d16-801e-1a85064e8bcd",
   "metadata": {},
   "outputs": [],
   "source": []
  }
 ],
 "metadata": {
  "kernelspec": {
   "display_name": "Python 3 (ipykernel)",
   "language": "python",
   "name": "python3"
  },
  "language_info": {
   "codemirror_mode": {
    "name": "ipython",
    "version": 3
   },
   "file_extension": ".py",
   "mimetype": "text/x-python",
   "name": "python",
   "nbconvert_exporter": "python",
   "pygments_lexer": "ipython3",
   "version": "3.7.16"
  }
 },
 "nbformat": 4,
 "nbformat_minor": 5
}
