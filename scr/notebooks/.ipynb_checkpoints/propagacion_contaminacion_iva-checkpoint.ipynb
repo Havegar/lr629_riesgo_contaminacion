{
 "cells": [
  {
   "cell_type": "code",
   "execution_count": 1,
   "id": "25fa7e0e-a70f-4278-88fd-a75be5c2a427",
   "metadata": {
    "tags": []
   },
   "outputs": [],
   "source": [
    "from pyspark.sql import SparkSession\n",
    "from pyspark.sql.functions import *\n",
    "from pyspark import SparkContext, SparkConf\n",
    "import pyspark\n",
    "import pandas as pd\n",
    "import warnings\n",
    "warnings.filterwarnings('ignore', category=DeprecationWarning)"
   ]
  },
  {
   "cell_type": "code",
   "execution_count": 2,
   "id": "963a50a8-c3d1-4109-8190-57b5a75f166e",
   "metadata": {
    "tags": []
   },
   "outputs": [
    {
     "name": "stderr",
     "output_type": "stream",
     "text": [
      "Setting spark.hadoop.yarn.resourcemanager.principal to hvega.externo\n"
     ]
    }
   ],
   "source": [
    "spark = SparkSession.builder \\\n",
    "  .appName(\"Test\")  \\\n",
    "  .config(\"spark.yarn.access.hadoopFileSystems\",\"abfs://data@datalakesii.dfs.core.windows.net/\") \\\n",
    "  .config(\"spark.executor.memory\", \"24g\") \\\n",
    "  .config(\"spark.driver.memory\", \"12g\")\\\n",
    "  .config(\"spark.executor.cores\", \"12\") \\\n",
    "  .config(\"spark.executor.instances\", \"24\") \\\n",
    "  .config(\"spark.driver.maxResultSize\", \"12g\") \\\n",
    "  .getOrCreate()\n",
    "\n",
    "warnings.filterwarnings('ignore', category=DeprecationWarning)\n",
    "sc=spark.sparkContext\n",
    "sc.setLogLevel ('ERROR')"
   ]
  },
  {
   "cell_type": "code",
   "execution_count": 3,
   "id": "932d5565-949b-4baf-a880-65fc171cd9fd",
   "metadata": {
    "tags": []
   },
   "outputs": [
    {
     "name": "stderr",
     "output_type": "stream",
     "text": [
      "                                                                                \r"
     ]
    }
   ],
   "source": [
    "spark.read.parquet(\"abfs://data@datalakesii.dfs.core.windows.net/DatosOrigen/LibSDF/JBA_ARCOS_E\").createOrReplaceTempView(\"comercial\")"
   ]
  },
  {
   "cell_type": "code",
   "execution_count": 4,
   "id": "d5d09c90-42ce-4150-bdd4-e09a8f6bedcf",
   "metadata": {},
   "outputs": [
    {
     "name": "stderr",
     "output_type": "stream",
     "text": [
      "Hive Session ID = 2065e5f8-8300-4523-946b-725dd4aa0f8d\n",
      "[Stage 1:====================================================>    (11 + 1) / 12]"
     ]
    },
    {
     "name": "stdout",
     "output_type": "stream",
     "text": [
      "+--------------------+--------------------+------+------+\n",
      "|         PARU_RUT_E0|         PARU_RUT_E2|   F_i| SCORE|\n",
      "+--------------------+--------------------+------+------+\n",
      "|NaXazswsZodNytTsS...|+++0Re2TkLe14DpcD...|0.6618|0.0353|\n",
      "|iBRLJMT3us1Nv2Uje...|+++4/3jzUwtDPSSo3...|0.3815|0.1581|\n",
      "|6WKXhsWH5RlOKIi6v...|+++4/3jzUwtDPSSo3...|0.4203|0.9047|\n",
      "|8cFyR319RFkoK3Srp...|+++4/3jzUwtDPSSo3...|0.9586|0.8544|\n",
      "|Uu7ofaB+1aDgfENMi...|+++4/3jzUwtDPSSo3...|0.1307|0.7362|\n",
      "|/+eRts6KZwhgL3x63...|+++4/3jzUwtDPSSo3...|0.5498|0.2551|\n",
      "|2ekh6DZal3FYd54WD...|+++4/3jzUwtDPSSo3...|0.9848|0.4166|\n",
      "|9toOnP1MK7aI8vDTK...|+++4/3jzUwtDPSSo3...| 0.128|0.0398|\n",
      "|2R4UUuZeZouDs1ML3...|+++4/3jzUwtDPSSo3...|0.5702|0.0257|\n",
      "|+0yKx5GSw/Q5FoSrp...|+++4/3jzUwtDPSSo3...|0.4611|0.2085|\n",
      "|Va5E3UGP9caIPuMjY...|+++4/3jzUwtDPSSo3...|0.5052|0.5102|\n",
      "|0Mc7YtTQj2BeLrOxn...|+++4/3jzUwtDPSSo3...|0.7836|0.3991|\n",
      "|25elxlIB0aBbDst3o...|+++4/3jzUwtDPSSo3...| 0.373|0.4369|\n",
      "|xir6OxC/tCKNSXtX6...|+++4/3jzUwtDPSSo3...|0.5724|0.4331|\n",
      "|awn1vGJ0+HsBiLukr...|+++4/3jzUwtDPSSo3...| 0.384|0.1858|\n",
      "|+t/u9Evh7+r4KNza6...|+++4/3jzUwtDPSSo3...|0.4227|0.1036|\n",
      "|zta5GIogOOA6sohmj...|+++4/3jzUwtDPSSo3...|0.0043|0.2191|\n",
      "|/UHFkJ2XWLMi0oOW5...|+++4/3jzUwtDPSSo3...|0.0574|0.7902|\n",
      "|s04kNuIGjOmmDq3ip...|+++4/3jzUwtDPSSo3...|0.6321|0.0847|\n",
      "|uTu+52CkIZ2DJ6ddQ...|+++4/3jzUwtDPSSo3...|0.1805|0.0678|\n",
      "+--------------------+--------------------+------+------+\n",
      "only showing top 20 rows\n",
      "\n"
     ]
    },
    {
     "name": "stderr",
     "output_type": "stream",
     "text": [
      "                                                                                \r"
     ]
    }
   ],
   "source": [
    "spark.sql(\"SELECT PARU_RUT_E0, PARU_RUT_E2, ROUND(RAND(7),4) as F_i , ROUND(RAND(6),4) as SCORE FROM  comercial order by PARU_RUT_E2 asc\").createOrReplaceTempView(\"comercial\")\n",
    "spark.sql(\"SELECT * from comercial\").show()"
   ]
  },
  {
   "cell_type": "markdown",
   "id": "5527e6ed-a779-41ec-9bb0-c4a47f00c3de",
   "metadata": {},
   "source": [
    "tenemos que hacer la agregacion para cada institucion a cual se vende."
   ]
  },
  {
   "cell_type": "code",
   "execution_count": 5,
   "id": "9a1a8199-ca05-4632-a98d-4fffaa2b5279",
   "metadata": {},
   "outputs": [
    {
     "name": "stderr",
     "output_type": "stream",
     "text": [
      "[Stage 5:================================================>     (180 + 20) / 200]"
     ]
    },
    {
     "name": "stdout",
     "output_type": "stream",
     "text": [
      "+--------------------+------+-------+\n",
      "|     PARU_RUT_E2_AUX|  1_f0|      F|\n",
      "+--------------------+------+-------+\n",
      "|+++0Re2TkLe14DpcD...|0.0331| 0.9669|\n",
      "|+++4/3jzUwtDPSSo3...|   1.0|10.8187|\n",
      "|+++Dv3VdgQyVqRTgl...|0.1263| 0.8737|\n",
      "|+++P6tU1TAUNG0SZv...|0.9976| 5.2634|\n",
      "|+++PplbWmUr0+EBsI...|0.0681| 0.9319|\n",
      "|+++VKgYcn1igYZjkT...|0.5847| 0.4153|\n",
      "|+++VWXcqX/471v55m...|0.4703| 0.5297|\n",
      "|+++W7hfpk1iG6dUNV...| 0.938| 0.8623|\n",
      "|+++cWi/r31w33XdNY...|0.3334| 1.6341|\n",
      "|+++pRtmlij7WM2I8r...|0.0554| 0.9446|\n",
      "|+++tcuZCELmfkkY/W...|0.8615| 1.0146|\n",
      "|+++tuHkP0LhBqEe70...|0.2346| 0.7654|\n",
      "|++/12LDGqKBzAMDTa...|0.8345| 0.1655|\n",
      "|++/AWYidA2jVe2pZl...|0.8138| 0.9991|\n",
      "|++/BNOl5Jzp3/53dg...|0.9995| 3.8734|\n",
      "|++/ILpGAKOZrH+0u+...|   1.0| 8.7212|\n",
      "|++/SY/nyQ3k67MERn...|0.4871| 1.4435|\n",
      "|++/UCyQgjvrvNydhf...|0.9769| 2.2168|\n",
      "|++/UTl2mwL/J484yK...|   1.0|30.9794|\n",
      "|++/WY9IfzTdOaYm/b...|0.5442| 0.4558|\n",
      "+--------------------+------+-------+\n",
      "only showing top 20 rows\n",
      "\n"
     ]
    },
    {
     "name": "stderr",
     "output_type": "stream",
     "text": [
      "                                                                                \r"
     ]
    }
   ],
   "source": [
    "spark.sql(\"SELECT PARU_RUT_E2 AS  PARU_RUT_E2_AUX , ROUND((1-EXP(SUM(LN(NULLIF(ABS(F_i),0))))),4) AS 1_f0, ROUND(SUM(F_i),4) as F  FROM  comercial GROUP BY PARU_RUT_E2\").createOrReplaceTempView(\"aux\")\n",
    "spark.sql(\"SELECT  * from aux order by PARU_RUT_E2_AUX asc\").show()"
   ]
  },
  {
   "cell_type": "code",
   "execution_count": 6,
   "id": "f7b032b0-247d-4f06-9430-2b54e3a92ae9",
   "metadata": {
    "tags": []
   },
   "outputs": [
    {
     "name": "stderr",
     "output_type": "stream",
     "text": [
      "[Stage 11:====================================================> (195 + 5) / 200]"
     ]
    },
    {
     "name": "stdout",
     "output_type": "stream",
     "text": [
      "+--------------------+--------------------+------+------+------+-------+\n",
      "|         PARU_RUT_E0|         PARU_RUT_E2|   F_i| SCORE|  1_f0|      F|\n",
      "+--------------------+--------------------+------+------+------+-------+\n",
      "|jzaM8tr9T0ZPrCTCS...|++2mOmlMTMf8FP8AS...|0.3982| 0.142|0.6328| 1.3204|\n",
      "|yowNXeCS4ELkTO/9z...|++2mOmlMTMf8FP8AS...|0.9222|0.9487|0.6328| 1.3204|\n",
      "|Ec1zdxbL87k5/05k/...|++KCc/MVDP3ZynZeM...|0.9962| 0.968|0.5957|  1.402|\n",
      "|UjA6JZ6eI75vsOPZm...|++KCc/MVDP3ZynZeM...|0.4058|0.1591|0.5957|  1.402|\n",
      "|FynCjCaAj9E3eByLf...|+/+IMFryGSJkidvlc...| 0.407|0.8694|0.9999| 3.8009|\n",
      "|Y5pbdrxQ5HDvyRGv2...|+/+IMFryGSJkidvlc...|0.3161|0.6271|0.9999| 3.8009|\n",
      "|dwElNqcCQQiFyI3ic...|+/+IMFryGSJkidvlc...| 0.896|0.0543|0.9999| 3.8009|\n",
      "|fNbGIovmthwhGeUH+...|+/+IMFryGSJkidvlc...|0.4807| 0.385|0.9999| 3.8009|\n",
      "|OfOv6+ieOcqmCBoyJ...|+/+IMFryGSJkidvlc...|0.1202| 0.679|0.9999| 3.8009|\n",
      "|PVFjiIt69vWZC2XGL...|+/+IMFryGSJkidvlc...|0.3836|0.2331|0.9999| 3.8009|\n",
      "|W+KgSjqyg0ruXJt6O...|+/+IMFryGSJkidvlc...|0.1258|0.1904|0.9999| 3.8009|\n",
      "|shRPyAsNITRHoPWgK...|+/+IMFryGSJkidvlc...|0.3907|0.0776|0.9999| 3.8009|\n",
      "|tK7X+Q/ho2Fyh7clL...|+/+IMFryGSJkidvlc...|0.6808|0.6719|0.9999| 3.8009|\n",
      "|FptOhacTpuxZkBlEO...|+/GP2pgvQ+KWPs5dT...|0.0618|0.5363|0.9748|  1.361|\n",
      "|g+qp0UCX8YmXLTG2d...|+/GP2pgvQ+KWPs5dT...|0.7711|0.2022|0.9748|  1.361|\n",
      "|tTywu59osu8iYLqA8...|+/GP2pgvQ+KWPs5dT...|0.5281|0.4495|0.9748|  1.361|\n",
      "|k5KteYQMCwoj00Au0...|+/vREtWUlsd1b34Xn...|0.5535|0.3668|0.4465| 0.5535|\n",
      "|Cfk949IPvlS0wnsSh...|+03yIiPxc4t3f47ON...|0.5327| 0.841|   1.0|20.3827|\n",
      "|EpdeOSpR+NqfHm9M/...|+03yIiPxc4t3f47ON...| 0.435|0.5496|   1.0|20.3827|\n",
      "|GVl3/05ULOCCLl58A...|+03yIiPxc4t3f47ON...| 0.089|0.9697|   1.0|20.3827|\n",
      "+--------------------+--------------------+------+------+------+-------+\n",
      "only showing top 20 rows\n",
      "\n"
     ]
    },
    {
     "name": "stderr",
     "output_type": "stream",
     "text": [
      "                                                                                \r"
     ]
    }
   ],
   "source": [
    "spark.sql(\"SELECT * from comercial left join aux on comercial.PARU_RUT_E2=aux.PARU_RUT_E2_AUX\").createOrReplaceTempView(\"comercial\")\n",
    "spark.sql(\"SELECT PARU_RUT_E0,PARU_RUT_E2,F_i,SCORE,1_f0,F from comercial\").show()"
   ]
  },
  {
   "cell_type": "code",
   "execution_count": null,
   "id": "826ccef2-8fb7-4202-a9a7-2771d4fce4d2",
   "metadata": {},
   "outputs": [],
   "source": []
  }
 ],
 "metadata": {
  "kernelspec": {
   "display_name": "Python 3 (ipykernel)",
   "language": "python",
   "name": "python3"
  },
  "language_info": {
   "codemirror_mode": {
    "name": "ipython",
    "version": 3
   },
   "file_extension": ".py",
   "mimetype": "text/x-python",
   "name": "python",
   "nbconvert_exporter": "python",
   "pygments_lexer": "ipython3",
   "version": "3.7.16"
  }
 },
 "nbformat": 4,
 "nbformat_minor": 5
}
