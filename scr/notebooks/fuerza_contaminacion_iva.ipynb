{
 "cells": [
  {
   "cell_type": "markdown",
   "id": "3187df69-d1c2-4f59-8618-0496d1533ed7",
   "metadata": {
    "tags": []
   },
   "source": [
    "## Apiux & SII: Fuerza entre entidades tributaria relacionada a probabilidad de contaminacion, definicion en base a IVA.\n",
    "## Henry Vega (henrry.vega@api-ux.com)\n",
    "## Data scientist"
   ]
  },
  {
   "cell_type": "code",
   "execution_count": 1,
   "id": "c2063073-d6ca-407a-b079-10a2b8d6b0a6",
   "metadata": {
    "tags": []
   },
   "outputs": [],
   "source": [
    "from pyspark.sql import SparkSession\n",
    "from pyspark.sql.functions import *\n",
    "from pyspark import SparkContext, SparkConf\n",
    "import pyspark\n",
    "import pandas as pd\n",
    "import warnings\n",
    "warnings.filterwarnings('ignore', category=DeprecationWarning)\n",
    "\n",
    "from pyspark_dist_explore import hist\n",
    "import matplotlib.pyplot as plt\n",
    "from pyspark.sql.types import StringType,TimestampType"
   ]
  },
  {
   "cell_type": "code",
   "execution_count": 2,
   "id": "44925030-d243-4d69-8b81-7a1130c485e0",
   "metadata": {
    "tags": []
   },
   "outputs": [
    {
     "name": "stderr",
     "output_type": "stream",
     "text": [
      "Setting spark.hadoop.yarn.resourcemanager.principal to yasser.nanjari\n"
     ]
    }
   ],
   "source": [
    "spark = SparkSession.builder \\\n",
    "  .appName(\"Test\")  \\\n",
    "  .config(\"spark.kerberos.access.hadoopFileSystems\",\"abfs://data@datalakesii.dfs.core.windows.net/\") \\\n",
    "  .config(\"spark.executor.memory\", \"16g\") \\\n",
    "  .config(\"spark.driver.memory\", \"12g\")\\\n",
    "  .config(\"spark.executor.cores\", \"2\") \\\n",
    "  .config(\"spark.driver.maxResultSize\", \"12g\") \\\n",
    "  .getOrCreate()\n",
    "warnings.filterwarnings('ignore', category=DeprecationWarning)\n",
    "sc=spark.sparkContext\n",
    "sc.setLogLevel ('ERROR')\n",
    "spark.conf.set(\"spark.sql.parquet.int96RebaseModeInRead\", \"CORRECTED\")\n",
    "spark.conf.set(\"spark.sql.parquet.enableVectorizedReader\",\"false\")\n",
    "spark.conf.set(\"spark.sql.parquet.int96RebaseModeInRead\", \"CORRECTED\")\n",
    "spark.conf.set(\"spark.sql.parquet.int96RebaseModeInWrite\", \"CORRECTED\")\n",
    "spark.conf.set(\"spark.sql.parquet.datetimeRebaseModeInRead\", \"CORRECTED\")\n",
    "spark.conf.set(\"spark.sql.parquet.datetimeRebaseModeInWrite\", \"CORRECTED\")"
   ]
  },
  {
   "cell_type": "markdown",
   "id": "22b1888e-b5c7-4d35-837b-a5470ad90560",
   "metadata": {
    "tags": []
   },
   "source": [
    "En primer lugar, leemos la data de los arcos comerciales correspondientes."
   ]
  },
  {
   "cell_type": "code",
   "execution_count": 3,
   "id": "fb894c35-8e6c-4beb-b511-9536d37b0f55",
   "metadata": {
    "tags": []
   },
   "outputs": [
    {
     "name": "stderr",
     "output_type": "stream",
     "text": [
      "                                                                                \r"
     ]
    }
   ],
   "source": [
    "spark.read.parquet(\"abfs://data@datalakesii.dfs.core.windows.net/DatosOrigen/LibSDF/JBA_ARCOS_E\").createOrReplaceTempView(\"comercial\")\n",
    "#spark.sql(\"SELECT count(*) from comercial where Monto_IVA<=0\").show()\n",
    "#spark.sql(\"SELECT count(*) from comercial where Monto_IVA>0\").show()"
   ]
  },
  {
   "cell_type": "code",
   "execution_count": 4,
   "id": "903f4af1-2bfc-44f4-8eb1-d9697803c76b",
   "metadata": {
    "tags": []
   },
   "outputs": [
    {
     "name": "stderr",
     "output_type": "stream",
     "text": [
      "[Stage 1:>                                                          (0 + 1) / 1]\r"
     ]
    },
    {
     "name": "stdout",
     "output_type": "stream",
     "text": [
      "+--------------------+----+--------------------+----+---------+\n",
      "|         PARU_RUT_E0|DV_E|         PARU_RUT_E2|DV_R|Monto_IVA|\n",
      "+--------------------+----+--------------------+----+---------+\n",
      "|+++4/3jzUwtDPSSo3...|   K|ABszgMcSyeqDOADH3...|   2|   483588|\n",
      "|+++4/3jzUwtDPSSo3...|   K|B69egPvHdCLmFLUn9...|   1|   622820|\n",
      "|+++4/3jzUwtDPSSo3...|   K|DN7mjSZwbbnmYguun...|   9|  1689480|\n",
      "|+++4/3jzUwtDPSSo3...|   K|KvIab/RtzKITBfm6x...|   4|   443916|\n",
      "|+++4/3jzUwtDPSSo3...|   K|QaLiEyp5aXzy/2NE/...|   7|  5441904|\n",
      "|+++4/3jzUwtDPSSo3...|   K|RoW0pFG+GHdTz7TIL...|   1|   626240|\n",
      "|+++4/3jzUwtDPSSo3...|   K|awn1vGJ0+HsBiLukr...|   K|   848768|\n",
      "|+++4/3jzUwtDPSSo3...|   K|fROwi9OYoxMmHbnfF...|   0|   174800|\n",
      "|+++4/3jzUwtDPSSo3...|   K|lukeuvqHM+ChBRP6H...|   3|    84459|\n",
      "|+++4/3jzUwtDPSSo3...|   K|mjj5lKD8vOButF1IV...|   7|   304000|\n",
      "|++/ILpGAKOZrH+0u+...|   1|1LYHqmSCM88uG/dBF...|   7|     7600|\n",
      "|++/ILpGAKOZrH+0u+...|   1|CEmBd7DKLX6lwIhU+...|   7|   140504|\n",
      "|++/ILpGAKOZrH+0u+...|   1|IovcSHF/13hoRVe61...|   K|  4834245|\n",
      "|++/ILpGAKOZrH+0u+...|   1|K1ljfAetJ4k/02Rij...|   4| 12961586|\n",
      "|++/ILpGAKOZrH+0u+...|   1|kep+ubLDDsRVwiaPm...|   6|   431263|\n",
      "|++/ILpGAKOZrH+0u+...|   1|ulXzivO4k8wwwJiKu...|   7|  3939640|\n",
      "|++/ILpGAKOZrH+0u+...|   1|wciwXHxa5HJs6ukFd...|   0|  4972707|\n",
      "|++/dFaxQQDYaKe8zO...|   2|Dq6ntQyN5Y3gPrtQy...|   5|   545489|\n",
      "|++/dFaxQQDYaKe8zO...|   2|GJLO+4BQSejGIP1ld...|   1|     7919|\n",
      "|++/dFaxQQDYaKe8zO...|   2|Pb+o6zrpG+PBuzJj9...|   8|  3303764|\n",
      "+--------------------+----+--------------------+----+---------+\n",
      "only showing top 20 rows\n",
      "\n"
     ]
    },
    {
     "name": "stderr",
     "output_type": "stream",
     "text": [
      "                                                                                \r"
     ]
    }
   ],
   "source": [
    "spark.sql(\"SELECT * FROM comercial\").show()"
   ]
  },
  {
   "cell_type": "markdown",
   "id": "65b2f02f-558b-4828-b808-09a7d770696f",
   "metadata": {
    "tags": []
   },
   "source": [
    "A partir de la información anterior, calculamos que el 0.98 % de todos los Monto_IVA tienen valores cero o negativos. Ahora comparemos los montos."
   ]
  },
  {
   "cell_type": "code",
   "execution_count": 5,
   "id": "e4c197b4-be91-4fe4-a11b-810c79a94b20",
   "metadata": {},
   "outputs": [
    {
     "name": "stderr",
     "output_type": "stream",
     "text": [
      "                                                                                \r"
     ]
    },
    {
     "name": "stdout",
     "output_type": "stream",
     "text": [
      "+--------------+\n",
      "|sum(Monto_IVA)|\n",
      "+--------------+\n",
      "| -213127757609|\n",
      "+--------------+\n",
      "\n"
     ]
    },
    {
     "name": "stderr",
     "output_type": "stream",
     "text": [
      "[Stage 5:====================================================>     (9 + 1) / 10]\r"
     ]
    },
    {
     "name": "stdout",
     "output_type": "stream",
     "text": [
      "+--------------+\n",
      "|sum(Monto_IVA)|\n",
      "+--------------+\n",
      "|71319972519491|\n",
      "+--------------+\n",
      "\n"
     ]
    },
    {
     "name": "stderr",
     "output_type": "stream",
     "text": [
      "                                                                                \r"
     ]
    }
   ],
   "source": [
    "spark.sql(\"SELECT sum(Monto_IVA) from comercial where Monto_IVA<=0\").show()\n",
    "spark.sql(\"SELECT sum(Monto_IVA) from comercial where Monto_IVA>0\").show()"
   ]
  },
  {
   "cell_type": "markdown",
   "id": "de1ff651-4df7-479c-afa3-81aa92ac8999",
   "metadata": {},
   "source": [
    "En terminos de valor absoluto, solo el 0.29% de todo el monto registrado como IVA tiene valor negativo. Resulta sensto, dadas las caracteristicas de la data, donde la ejecucion de una nota de credito puede hacer que el remanente de IVA sea negativo, no considerar estos valores. A continuacion observaremos como es la distribucion de IVA en un histograma de frecuencia. "
   ]
  },
  {
   "cell_type": "code",
   "execution_count": 6,
   "id": "d4fadd33-49aa-4cfa-ab53-15f9c14809b6",
   "metadata": {
    "tags": []
   },
   "outputs": [],
   "source": [
    "df=spark.sql(\"SELECT Monto_IVA FROM comercial where Monto_IVA>0 and Monto_IVA<1e+6\")"
   ]
  },
  {
   "cell_type": "code",
   "execution_count": 7,
   "id": "11022c87-08eb-4fdf-94a0-209ec0aa8f85",
   "metadata": {
    "tags": []
   },
   "outputs": [
    {
     "name": "stderr",
     "output_type": "stream",
     "text": [
      "                                                                                \r"
     ]
    },
    {
     "data": {
      "text/plain": [
       "(array([20949539.,  5251602.,  2776790.,  1763082.,  1242370.,   949154.,\n",
       "          742666.,   604058.,   497560.,   427142.,   363108.,   325969.,\n",
       "          276007.,   248185.,   226531.,   203573.,   179149.,   171889.,\n",
       "          153707.,   144515.,   128711.,   121128.,   117057.,   107464.,\n",
       "           97051.,    93762.,    86210.,    83399.,    82884.,    72947.]),\n",
       " array([1.000000e+00, 3.333420e+04, 6.666740e+04, 1.000006e+05,\n",
       "        1.333338e+05, 1.666670e+05, 2.000002e+05, 2.333334e+05,\n",
       "        2.666666e+05, 2.999998e+05, 3.333330e+05, 3.666662e+05,\n",
       "        3.999994e+05, 4.333326e+05, 4.666658e+05, 4.999990e+05,\n",
       "        5.333322e+05, 5.666654e+05, 5.999986e+05, 6.333318e+05,\n",
       "        6.666650e+05, 6.999982e+05, 7.333314e+05, 7.666646e+05,\n",
       "        7.999978e+05, 8.333310e+05, 8.666642e+05, 8.999974e+05,\n",
       "        9.333306e+05, 9.666638e+05, 9.999970e+05]),\n",
       " <BarContainer object of 30 artists>)"
      ]
     },
     "execution_count": 7,
     "metadata": {},
     "output_type": "execute_result"
    },
    {
     "data": {
      "image/png": "[encoded data removed]",
      "text/plain": [
       "<Figure size 432x288 with 1 Axes>"
      ]
     },
     "metadata": {
      "needs_background": "light"
     },
     "output_type": "display_data"
    }
   ],
   "source": [
    "fig, ax = plt.subplots()\n",
    "hist(ax, df.select('Monto_IVA'), bins = 30, color=['blue'])"
   ]
  },
  {
   "cell_type": "markdown",
   "id": "ccf48d75-5853-45a5-9513-6a14cd5d9ce5",
   "metadata": {
    "tags": []
   },
   "source": [
    "Ahora calculamos la fraccion de IVA para cada contriibuyente A que ha generado documentos tributarios al contribuyente B."
   ]
  },
  {
   "cell_type": "code",
   "execution_count": 8,
   "id": "e53edd3d-7fae-4110-8b85-813ebf7bbbbe",
   "metadata": {
    "tags": []
   },
   "outputs": [],
   "source": [
    "spark.sql(\"SELECT PARU_RUT_E0, PARU_RUT_E2, Monto_IVA FROM comercial where Monto_IVA>0 order by PARU_RUT_E2 asc\").createOrReplaceTempView(\"comercial\")\n",
    "spark.sql(\"SELECT PARU_RUT_E2, sum(Monto_IVA) as Total_IVA FROM comercial group by PARU_RUT_E2 order by PARU_RUT_E2 asc\").createOrReplaceTempView(\"comercial_aux\")\n",
    "spark.sql(\"SELECT PARU_RUT_E0,comercial.PARU_RUT_E2,ROUND(Monto_IVA/Total_IVA,4) as Fi from comercial left join comercial_aux on comercial.PARU_RUT_E2= comercial_aux.PARU_RUT_E2\").createOrReplaceTempView(\"comercial\")"
   ]
  },
  {
   "cell_type": "code",
   "execution_count": 9,
   "id": "3f60cfab-5d94-4687-bb4f-7c76e09e3216",
   "metadata": {
    "tags": []
   },
   "outputs": [
    {
     "name": "stderr",
     "output_type": "stream",
     "text": [
      "[Stage 14:====================================================>   (32 + 2) / 34]\r"
     ]
    },
    {
     "name": "stdout",
     "output_type": "stream",
     "text": [
      "+--------------------+--------------------+---+\n",
      "|              emisor|            receptor| Fi|\n",
      "+--------------------+--------------------+---+\n",
      "|D9KktOGygQ9YN2F3n...|+/4V7giLWvBmdzCRS...|1.0|\n",
      "|g+qp0UCX8YmXLTG2d...|+/pJQ94Sn8Qvhbldl...|1.0|\n",
      "|CKvAeJhvMeLTTLp92...|+/63NDxjJFRz+wpSF...|1.0|\n",
      "|MWgBYRE6Rkroy0ChE...|+/4/KD5ytMOUkGsm2...|1.0|\n",
      "|1ft0ZhX13fi24hlgT...|+/6Fy0iqX2A4UgAr7...|1.0|\n",
      "|7lofIRpS8oFdbfmC3...|++6fsvPDIL9zOpg5M...|1.0|\n",
      "|ArLmMPunSj0tAsF4A...|+/9nzJwLIKCffID4/...|1.0|\n",
      "|vFpjRDRrOH20Hqatg...|++G5AUYEFP6pU2Pen...|1.0|\n",
      "|C4Z2TJ+dae2X8z1Gt...|+/AjzRyiKuRTKubac...|1.0|\n",
      "|yg16qMZet2lq23LbF...|++GG+xPmiTY4W0NkO...|1.0|\n",
      "|41vxG5znQHxYqDibA...|++OGH94xiU11UtAjm...|1.0|\n",
      "|MAjjGOFA6wvj5KE7a...|++a7qXNNS4lnLe3BK...|1.0|\n",
      "|Acsv4Cg8iiaNXVecy...|+/BXlH3tPfD2JFLoo...|1.0|\n",
      "|eShuSbqVFrN4B+N5e...|++c1+qDS+KroMjpoS...|1.0|\n",
      "|9mHlMg9kVaSfTxNFm...|+/DbXe7G6U3yf6d6S...|1.0|\n",
      "|Dmm4P1buVrnkIPsko...|+/1VhIT2BcrNC59JF...|1.0|\n",
      "|HNXagQrqtUm5M0HpI...|+/E75k6vhJV2tecV5...|1.0|\n",
      "|HLETiWusBNayXJSvs...|++41ultTmUb9YWD+O...|1.0|\n",
      "|ag+yy5Z3zECHe6aXC...|++8yrddEhyjEVxjMJ...|1.0|\n",
      "|jmwZ09/b7g6xHZfE9...|+/mV+sVfBCmFXAGz1...|1.0|\n",
      "+--------------------+--------------------+---+\n",
      "only showing top 20 rows\n",
      "\n"
     ]
    },
    {
     "name": "stderr",
     "output_type": "stream",
     "text": [
      "                                                                                \r"
     ]
    }
   ],
   "source": [
    "spark.sql(\"SELECT PARU_RUT_E0 as emisor, PARU_RUT_E2 as receptor,  Fi from comercial where Fi>0 order by Fi desc\").show()"
   ]
  },
  {
   "cell_type": "markdown",
   "id": "34c91aa4-e99e-48f9-8f47-7fa20a06e0dd",
   "metadata": {},
   "source": [
    "Finalmente guardamos la data para poder utilizarla posteriormente en la propagacion. "
   ]
  },
  {
   "cell_type": "code",
   "execution_count": null,
   "id": "8d2abb7d-b941-4782-8409-750c4a4e6c14",
   "metadata": {
    "tags": []
   },
   "outputs": [
    {
     "name": "stderr",
     "output_type": "stream",
     "text": [
      "                                                                                \r"
     ]
    }
   ],
   "source": [
    "iva=spark.sql(\"SELECT PARU_RUT_E0 as emisor, PARU_RUT_E2 as receptor, Fi from comercial\")\n",
    "iva=iva.toPandas()\n",
    "iva.to_csv('/home/cdsw/data/processed/fuerza_iva.csv', index=False)"
   ]
  }
 ],
 "metadata": {
  "kernelspec": {
   "display_name": "Python 3 (ipykernel)",
   "language": "python",
   "name": "python3"
  },
  "language_info": {
   "codemirror_mode": {
    "name": "ipython",
    "version": 3
   },
   "file_extension": ".py",
   "mimetype": "text/x-python",
   "name": "python",
   "nbconvert_exporter": "python",
   "pygments_lexer": "ipython3",
   "version": "3.10.13"
  }
 },
 "nbformat": 4,
 "nbformat_minor": 5
}
