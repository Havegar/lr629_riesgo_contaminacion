{
 "cells": [
  {
   "cell_type": "markdown",
   "id": "5f34094f-ab90-41ce-9a78-bc01d9e216c9",
   "metadata": {},
   "source": [
    "## Apiux & SII: Transformacion de contribuyentes con alertas tributarias a contaminados\n",
    "## ATENCION: proyecto sujeto a mantenimiento continuo. \n",
    "\n",
    "## Henry Vega (henrry.vega@api-ux.com)\n",
    "## Data analyst"
   ]
  },
  {
   "cell_type": "code",
   "execution_count": 1,
   "id": "25fa7e0e-a70f-4278-88fd-a75be5c2a427",
   "metadata": {
    "tags": []
   },
   "outputs": [],
   "source": [
    "from pyspark.sql import SparkSession\n",
    "from pyspark.sql.functions import *\n",
    "from pyspark import SparkContext, SparkConf\n",
    "import pyspark\n",
    "import pandas as pd\n",
    "import warnings\n",
    "warnings.filterwarnings('ignore', category=DeprecationWarning)\n",
    "from pyspark.sql.types import IntegerType,BooleanType,DateType,StringType"
   ]
  },
  {
   "cell_type": "code",
   "execution_count": 2,
   "id": "963a50a8-c3d1-4109-8190-57b5a75f166e",
   "metadata": {
    "tags": []
   },
   "outputs": [
    {
     "name": "stderr",
     "output_type": "stream",
     "text": [
      "Setting spark.hadoop.yarn.resourcemanager.principal to yasser.nanjari\n"
     ]
    }
   ],
   "source": [
    "spark = SparkSession.builder \\\n",
    "  .appName(\"Test\")  \\\n",
    "  .config(\"spark.kerberos.access.hadoopFileSystems\",\"abfs://data@datalakesii.dfs.core.windows.net/\") \\\n",
    "  .config(\"spark.executor.memory\", \"16g\") \\\n",
    "  .config(\"spark.driver.memory\", \"12g\")\\\n",
    "  .config(\"spark.executor.cores\", \"2\") \\\n",
    "  .config(\"spark.driver.maxResultSize\", \"12g\") \\\n",
    "  .getOrCreate()\n",
    "warnings.filterwarnings('ignore', category=DeprecationWarning)\n",
    "sc=spark.sparkContext\n",
    "sc.setLogLevel ('ERROR')\n",
    "spark.conf.set(\"spark.sql.parquet.int96RebaseModeInRead\", \"CORRECTED\")\n",
    "spark.conf.set(\"spark.sql.parquet.enableVectorizedReader\",\"false\")\n",
    "spark.conf.set(\"spark.sql.parquet.int96RebaseModeInRead\", \"CORRECTED\")\n",
    "spark.conf.set(\"spark.sql.parquet.int96RebaseModeInWrite\", \"CORRECTED\")\n",
    "spark.conf.set(\"spark.sql.parquet.datetimeRebaseModeInRead\", \"CORRECTED\")\n",
    "spark.conf.set(\"spark.sql.parquet.datetimeRebaseModeInWrite\", \"CORRECTED\")"
   ]
  },
  {
   "cell_type": "code",
   "execution_count": 3,
   "id": "932d5565-949b-4baf-a880-65fc171cd9fd",
   "metadata": {
    "tags": []
   },
   "outputs": [
    {
     "name": "stderr",
     "output_type": "stream",
     "text": [
      "                                                                                \r"
     ]
    }
   ],
   "source": [
    "#Cargamos la data\n",
    "a=spark.read.parquet(\"abfs://data@datalakesii.dfs.core.windows.net/DatosOrigen/DW/DW_TRN_ALERTAS_E\")"
   ]
  },
  {
   "cell_type": "code",
   "execution_count": 4,
   "id": "219fc734-12e5-4fb6-b478-98fa8cb72038",
   "metadata": {
    "tags": []
   },
   "outputs": [
    {
     "name": "stdout",
     "output_type": "stream",
     "text": [
      "root\n",
      " |-- ALER_CODIGO_VO: long (nullable = true)\n",
      " |-- ALER_COD_TIPO_ALERTA_VO: integer (nullable = true)\n",
      " |-- ALER_DESC_TIPO_ALERTA_VO: string (nullable = true)\n",
      " |-- ALER_FECHA_ACTIV_VO: timestamp (nullable = true)\n",
      " |-- UNOP_UNIDAD_ACTIV: integer (nullable = true)\n",
      " |-- ALER_UNIDAD_ACTIV_VO: string (nullable = true)\n",
      " |-- ALER_USUARIO_ACTIV_VO: string (nullable = true)\n",
      " |-- CONT_RUT: string (nullable = true)\n",
      " |-- CONT_DV: string (nullable = true)\n",
      " |-- ALER_RUT_VO: string (nullable = true)\n",
      " |-- ALER_DV_VO: string (nullable = true)\n",
      " |-- UNOP_UNIDAD_DESACTIV: integer (nullable = true)\n",
      " |-- ALER_UNIDAD_DESACTIV_VO: string (nullable = true)\n",
      " |-- ALER_USUARIO_DESACTIV_VO: string (nullable = true)\n",
      " |-- ALER_FECHA_DESACTIV_VO: timestamp (nullable = true)\n",
      " |-- ALER_DESCRIPCION_VO: string (nullable = true)\n",
      " |-- ALER_FOLIO_BLOQUEO_VO: long (nullable = true)\n",
      " |-- ALER_FOLIO_DESBLOQ_VO: long (nullable = true)\n",
      " |-- ALER_DESCRIPCION_DESACTIV: string (nullable = true)\n",
      " |-- ALER_FECHA_CARGA_DW: timestamp (nullable = true)\n",
      " |-- _c20: string (nullable = true)\n",
      "\n"
     ]
    }
   ],
   "source": [
    "#Columnas del dataframe\n",
    "a.printSchema()"
   ]
  },
  {
   "cell_type": "code",
   "execution_count": 5,
   "id": "d7012857-e644-4641-af37-b6d55d1d88af",
   "metadata": {
    "tags": []
   },
   "outputs": [],
   "source": [
    "a.createOrReplaceTempView(\"alertas\")"
   ]
  },
  {
   "cell_type": "code",
   "execution_count": 6,
   "id": "9a1a8199-ca05-4632-a98d-4fffaa2b5279",
   "metadata": {},
   "outputs": [
    {
     "name": "stderr",
     "output_type": "stream",
     "text": [
      "                                                                                \r"
     ]
    },
    {
     "name": "stdout",
     "output_type": "stream",
     "text": [
      "+------------------------+\n",
      "|aler_desc_tipo_alerta_vo|\n",
      "+------------------------+\n",
      "|    SOCIO Y/O REPRESE...|\n",
      "|    EMISOR CON ANTECE...|\n",
      "|    EMISOR Y RECEPTOR...|\n",
      "|    EMISOR CON ANTECE...|\n",
      "|    PRESENTA SITUACIO...|\n",
      "+------------------------+\n",
      "\n"
     ]
    },
    {
     "name": "stderr",
     "output_type": "stream",
     "text": [
      "[Stage 4:========================================================>(60 + 1) / 61]\r"
     ]
    },
    {
     "name": "stdout",
     "output_type": "stream",
     "text": [
      "+--------+\n",
      "|count(1)|\n",
      "+--------+\n",
      "|   32503|\n",
      "+--------+\n",
      "\n"
     ]
    },
    {
     "name": "stderr",
     "output_type": "stream",
     "text": [
      "                                                                                \r"
     ]
    }
   ],
   "source": [
    "#Se selecionan las alertas y se contruye la tabla de contaminados\n",
    "spark.sql(\"select aler_desc_tipo_alerta_vo,cont_rut from alertas where ALER_COD_TIPO_ALERTA_VO='4110' OR ALER_COD_TIPO_ALERTA_VO='4111' OR ALER_COD_TIPO_ALERTA_VO='4112' OR aler_cod_tipo_alerta_vo='4113' AND aler_fecha_desactiv_vo IS NULL\").createOrReplaceTempView(\"alertas\")\n",
    "spark.sql(\"SELECT distinct(aler_desc_tipo_alerta_vo)  from alertas\").show()\n",
    "spark.sql(\"SELECT cont_rut, count(*) as c from alertas group by cont_rut \").createOrReplaceTempView(\"alertas\")\n",
    "spark.sql(\"SELECT *  from alertas order by c desc\").createOrReplaceTempView(\"alertas\")\n",
    "spark.sql(\"SELECT count(*)  from alertas\").show()\n"
   ]
  },
  {
   "cell_type": "markdown",
   "id": "6ca1fd35-745f-4897-a178-6d206378ee96",
   "metadata": {},
   "source": [
    "Por lo cual, tenemos 25647 contribuyentes contaminados con alguna alerta. Se exportara el dataset con un valor 1 como score para estos contribuyentes. "
   ]
  },
  {
   "cell_type": "code",
   "execution_count": 7,
   "id": "19af7ecb-5d8a-4d16-801e-1a85064e8bcd",
   "metadata": {
    "tags": []
   },
   "outputs": [
    {
     "name": "stderr",
     "output_type": "stream",
     "text": [
      "                                                                                \r"
     ]
    }
   ],
   "source": [
    "out=spark.sql(\"SELECT cont_rut, 1 as score from alertas\").toPandas()\n",
    "out.reset_index(drop=True).to_csv('/home/cdsw/data/processed/contaminados.csv',index=False)  "
   ]
  }
 ],
 "metadata": {
  "kernelspec": {
   "display_name": "Python 3 (ipykernel)",
   "language": "python",
   "name": "python3"
  },
  "language_info": {
   "codemirror_mode": {
    "name": "ipython",
    "version": 3
   },
   "file_extension": ".py",
   "mimetype": "text/x-python",
   "name": "python",
   "nbconvert_exporter": "python",
   "pygments_lexer": "ipython3",
   "version": "3.10.13"
  }
 },
 "nbformat": 4,
 "nbformat_minor": 5
}
