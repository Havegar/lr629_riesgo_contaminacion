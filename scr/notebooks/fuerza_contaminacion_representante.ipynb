{
 "cells": [
  {
   "cell_type": "markdown",
   "id": "125e0088-3506-4daa-9fe3-0bef0914a0ea",
   "metadata": {},
   "source": [
    "## Apiux & SII: Fuerza entre entidades tributaria relacionada a probabilidad de contaminacion, definicion en base a IVA y contaminacion de representantes.\n",
    "## Henry Vega (henrry.vega@api-ux.com)\n",
    "## Data scientist"
   ]
  },
  {
   "cell_type": "code",
   "execution_count": 1,
   "id": "fa417cd8-bf17-4bbb-b6eb-e65a9bd034d5",
   "metadata": {
    "tags": []
   },
   "outputs": [],
   "source": [
    "from pyspark.sql import SparkSession\n",
    "from pyspark.sql.functions import *\n",
    "from pyspark import SparkContext, SparkConf\n",
    "import pyspark\n",
    "import pandas as pd\n",
    "import warnings\n",
    "warnings.filterwarnings('ignore', category=DeprecationWarning)\n",
    "\n",
    "from pyspark_dist_explore import hist\n",
    "import matplotlib.pyplot as plt\n",
    "from pyspark.sql.types import StringType,TimestampType"
   ]
  },
  {
   "cell_type": "code",
   "execution_count": 2,
   "id": "44925030-d243-4d69-8b81-7a1130c485e0",
   "metadata": {
    "tags": []
   },
   "outputs": [
    {
     "name": "stderr",
     "output_type": "stream",
     "text": [
      "Setting spark.hadoop.yarn.resourcemanager.principal to yasser.nanjari\n"
     ]
    }
   ],
   "source": [
    "spark = SparkSession.builder \\\n",
    "  .appName(\"Test\")  \\\n",
    "  .config(\"spark.kerberos.access.hadoopFileSystems\",\"abfs://data@datalakesii.dfs.core.windows.net/\") \\\n",
    "  .config(\"spark.executor.memory\", \"16g\") \\\n",
    "  .config(\"spark.driver.memory\", \"12g\")\\\n",
    "  .config(\"spark.executor.cores\", \"2\") \\\n",
    "  .config(\"spark.driver.maxResultSize\", \"12g\") \\\n",
    "  .getOrCreate()\n",
    "warnings.filterwarnings('ignore', category=DeprecationWarning)\n",
    "sc=spark.sparkContext\n",
    "sc.setLogLevel ('ERROR')\n",
    "spark.conf.set(\"spark.sql.parquet.int96RebaseModeInRead\", \"CORRECTED\")\n",
    "spark.conf.set(\"spark.sql.parquet.enableVectorizedReader\",\"false\")\n",
    "spark.conf.set(\"spark.sql.parquet.int96RebaseModeInRead\", \"CORRECTED\")\n",
    "spark.conf.set(\"spark.sql.parquet.int96RebaseModeInWrite\", \"CORRECTED\")\n",
    "spark.conf.set(\"spark.sql.parquet.datetimeRebaseModeInRead\", \"CORRECTED\")\n",
    "spark.conf.set(\"spark.sql.parquet.datetimeRebaseModeInWrite\", \"CORRECTED\")"
   ]
  },
  {
   "cell_type": "code",
   "execution_count": 3,
   "id": "fb894c35-8e6c-4beb-b511-9536d37b0f55",
   "metadata": {
    "tags": []
   },
   "outputs": [
    {
     "name": "stderr",
     "output_type": "stream",
     "text": [
      "Hive Session ID = fe4c7cbd-0631-4007-a64c-8beeda59935b\n",
      "[Stage 0:>                                                          (0 + 1) / 1]\r"
     ]
    },
    {
     "name": "stdout",
     "output_type": "stream",
     "text": [
      "+--------------------+--------------------+--------+--------------+-------------------+\n",
      "|     dhdr_rut_emisor|      dhdr_rut_recep|dhdr_iva|dhdr_mnt_total|  dhdr_fch_emis_int|\n",
      "+--------------------+--------------------+--------+--------------+-------------------+\n",
      "|gGDb8NLhg0ajP7iXj...|njLBzZlYNhszJSrZm...|       0|  600000.00000|2020-01-01 00:00:00|\n",
      "|6lSkCdxgHAkBREKV4...|YOK83ahT5JGcfkjXw...|       0| 1514826.00000|2020-01-05 00:00:00|\n",
      "|wpRW8we88bp+B19pL...|mNKzwe6Z5TAI7rkgK...|       0|  424658.00000|2020-01-01 00:00:00|\n",
      "|iO3RuGmu9S8j/qceg...|VKwRcXW+co+Q+vis8...|    3808|   23848.00000|2020-01-01 00:00:00|\n",
      "|XgWqrLqNpA6bnLsy3...|Ca57v1mq+nwoq4vXh...|       0|  867596.00000|2020-01-01 00:00:00|\n",
      "|jnH5LqARxTrxMMS28...|5ZqOVNXrlcSHP1TC7...|       0| 6295073.00000|2020-01-05 00:00:00|\n",
      "|blxcKetEUE9ndr55s...|0ZQfoiDHFbPlrwSKZ...|    7460|   46723.00000|2020-01-01 00:00:00|\n",
      "|zPyf6GJ20YbSOk+rx...|qqQeXNp01G77elWga...|   16137|  101070.00000|2020-01-02 00:00:00|\n",
      "|J8M5NnLsq8virJEoW...|iCprrtCnZPKMQhYSL...|  118750|  743750.00000|2020-01-01 00:00:00|\n",
      "|WbZl6XU99TkCuRZIZ...|BOFOyo5Rlrd+yXv1l...|       0|  235000.00000|2020-01-11 00:00:00|\n",
      "|oEFzd1d8Gd8F19eZZ...|zx+gfayvRUWmzs3hf...|  825512| 8413801.00000|2020-01-05 00:00:00|\n",
      "|piT9XLmCfgdyVFETI...|n6Z5B/V8eXQlVk3CQ...|   10578|   66250.00000|2020-11-10 00:00:00|\n",
      "|WrBx5itJ2KynaY5Qz...|8ZTXHpNtG/kUmfcey...|    9526|   59662.00000|2020-11-10 00:00:00|\n",
      "|Xtv2+51vzVCu814KQ...|/ISXcu3fWO7ROB2ZK...|    1214|    7602.00000|2020-11-10 00:00:00|\n",
      "|lV8DKj9AKFL151UhL...|CsEX0aHTeLIk0k2nd...|    2394|   16560.00000|2020-11-10 00:00:00|\n",
      "|5gGWC//8S09jfr81R...|sqfa6+ZYDzBsttNeE...|  969000| 6069000.00000|2020-11-10 00:00:00|\n",
      "|CsH48453Vt9Tg0ClA...|WETiYcZNzScdl8Vfi...|   32833|  205640.00000|2020-11-10 00:00:00|\n",
      "|CNfma48fFLepY5aOP...|LdWyHi+iLE4xGfLZc...|   42084|  263578.00000|2020-11-11 00:00:00|\n",
      "|M5zfMEYo04ZItbu60...|fNbGIovmthwhGeUH+...|    6733|   42172.00000|2020-11-10 00:00:00|\n",
      "|ghKdN0VZMj2oQ+yck...|0jx5+SYdSXh4CSDFZ...|   15384|   96350.00000|2020-11-10 00:00:00|\n",
      "+--------------------+--------------------+--------+--------------+-------------------+\n",
      "only showing top 20 rows\n",
      "\n"
     ]
    },
    {
     "name": "stderr",
     "output_type": "stream",
     "text": [
      "                                                                                \r"
     ]
    }
   ],
   "source": [
    "#Se seleccionan las transacciones tipo 33 o 34 de transacciones comerciales\n",
    "df=spark.sql(\"select dhdr_rut_emisor,dhdr_rut_recep,dhdr_iva,dhdr_mnt_total,dhdr_fch_emis_int from dwbgdata.header_dte_consolidada_enc_sas_analitica where (dtdc_codigo ='33' or dtdc_codigo='34')\")\n",
    "#df = df.withColumn(\"dhdr_fch_emis_int\", from_unixtime(unix_timestamp(col(\"dhdr_fch_emis_int\").cast(\"string\"),\"yyyyMMdd\"),\"yyyy-MM-dd HH:mm:ss\"))\n",
    "#df = df.withColumn(\"dhdr_fch_emis_int\",df[\"dhdr_fch_emis_int\"].cast(StringType()))\n",
    "df=df.withColumn(\"dhdr_fch_emis_int\",to_timestamp(col(\"dhdr_fch_emis_int\").cast(\"string\"), \"yyyyMMdd\"))\n",
    "df.schema\n",
    "df.show()"
   ]
  },
  {
   "cell_type": "code",
   "execution_count": 4,
   "id": "ad75e941-e707-4c89-97e6-802e4ae9ce5d",
   "metadata": {
    "tags": []
   },
   "outputs": [],
   "source": [
    "df.createOrReplaceTempView(\"comercial\")"
   ]
  },
  {
   "cell_type": "code",
   "execution_count": 5,
   "id": "f699213a-0fbe-419d-bf90-e055e481a303",
   "metadata": {
    "tags": []
   },
   "outputs": [
    {
     "data": {
      "text/plain": [
       "StructType(List(StructField(dhdr_rut_emisor,StringType,true),StructField(dhdr_rut_recep,StringType,true),StructField(dhdr_iva,LongType,true),StructField(dhdr_mnt_total,DecimalType(22,5),true),StructField(dhdr_fch_emis_int,TimestampType,true)))"
      ]
     },
     "execution_count": 5,
     "metadata": {},
     "output_type": "execute_result"
    }
   ],
   "source": [
    "df.schema"
   ]
  },
  {
   "cell_type": "code",
   "execution_count": 6,
   "id": "52cba31d-880d-4902-82f6-8b240bf82dd0",
   "metadata": {
    "tags": []
   },
   "outputs": [
    {
     "name": "stderr",
     "output_type": "stream",
     "text": [
      "[Stage 1:====================================================>(4543 + 1) / 4544]\r"
     ]
    },
    {
     "name": "stdout",
     "output_type": "stream",
     "text": [
      "+----------+\n",
      "|  count(1)|\n",
      "+----------+\n",
      "|1175169116|\n",
      "+----------+\n",
      "\n"
     ]
    },
    {
     "name": "stderr",
     "output_type": "stream",
     "text": [
      "                                                                                \r"
     ]
    }
   ],
   "source": [
    "spark.sql(\"select count(*) from comercial\").show()"
   ]
  },
  {
   "cell_type": "code",
   "execution_count": 7,
   "id": "72ee7773-8b1a-4a8e-9cf1-546d103e31eb",
   "metadata": {
    "tags": []
   },
   "outputs": [
    {
     "name": "stderr",
     "output_type": "stream",
     "text": [
      "                                                                                \r"
     ]
    },
    {
     "name": "stdout",
     "output_type": "stream",
     "text": [
      "+--------+\n",
      "|count(1)|\n",
      "+--------+\n",
      "| 3849502|\n",
      "+--------+\n",
      "\n"
     ]
    },
    {
     "name": "stderr",
     "output_type": "stream",
     "text": [
      "[Stage 8:============================================>              (3 + 1) / 4]\r"
     ]
    },
    {
     "name": "stdout",
     "output_type": "stream",
     "text": [
      "+--------------------+--------------------+----------------------+---------------------+\n",
      "|REPR_FECHA_INICIO_VO|            CONT_RUT|CONT_RUT_REPRESENTANTE|REPR_FECHA_TERMINO_VO|\n",
      "+--------------------+--------------------+----------------------+---------------------+\n",
      "| 2005-05-17 04:00:00|IRKZe9Dtp9/TtUF9P...|  Ne3lrSJsBNsqa+S0t...|  2008-01-16 03:00:00|\n",
      "| 2005-05-17 04:00:00|97WP/yx9sOY13b5iZ...|  T6wFV1XZNFGeXDXZb...|                 null|\n",
      "| 2005-05-17 04:00:00|z8EM/NWZ6Ys0i8Wv7...|  +/+w8yGKIYU2WZKVQ...|                 null|\n",
      "| 2005-04-12 04:00:00|+BurxAXG1gfMM+rjG...|  Muoj0+tUbW1puNtuN...|                 null|\n",
      "| 2005-05-17 04:00:00|UKoHUHGKdfzo3S1ix...|  8eEdNIjgOw0oXxeZR...|                 null|\n",
      "| 2005-05-17 04:00:00|/7Z6Rk1xOYeDFBS0N...|  oIT7pwHpTuyg/wI6R...|                 null|\n",
      "| 2005-05-17 04:00:00|/7Z6Rk1xOYeDFBS0N...|  SScvqzZ4o0hpk7+3d...|  2019-08-27 04:00:00|\n",
      "| 2005-05-17 04:00:00|DaH7L9WV1+qo+4RSl...|  E/m8XqCCoAv/HtpAs...|                 null|\n",
      "| 2005-05-17 04:00:00|FC1/ULZJ/iUGDLkUk...|  J7VVO96ubD4CbgUdj...|                 null|\n",
      "| 2005-05-17 04:00:00|FC1/ULZJ/iUGDLkUk...|  f2kAlxiHimtYbtv3z...|  2009-06-16 04:00:00|\n",
      "| 2005-05-17 04:00:00|KNHFfUAWbMyXxIqb7...|  dJMYbqFmmgsZXLXPE...|                 null|\n",
      "| 2005-05-17 04:00:00|KNHFfUAWbMyXxIqb7...|  D/uOqCeTcZhpmjUCY...|                 null|\n",
      "| 2005-05-17 04:00:00|ot0Cw+7jKhtAPW/yh...|  MPryiYSHx1B8LNo/N...|                 null|\n",
      "| 2005-05-17 04:00:00|hUDNSoIdjsBxcIwrX...|  lpsw9PcssBLo/T0a7...|                 null|\n",
      "| 2005-05-17 04:00:00|wNcFhMDNzMOh+5nOL...|  D369pWQ4vHOiQVRyZ...|                 null|\n",
      "| 2005-05-17 04:00:00|zdZJ3Y5BCOxwRd/k/...|  TO0Ifv2UObtAPv98h...|                 null|\n",
      "| 2005-05-17 04:00:00|MaWRiCWdBsZ8SCV9B...|  WuovNR4eaeIE67FIp...|                 null|\n",
      "| 2005-05-17 04:00:00|FDSeQqu9XAVr8mBhs...|  5t9X0fA5VF8r0yqlu...|                 null|\n",
      "| 2005-05-17 04:00:00|FDSeQqu9XAVr8mBhs...|  q2vrKv7Gk0Z1IqOv2...|                 null|\n",
      "| 2005-05-17 04:00:00|FDSeQqu9XAVr8mBhs...|  M/yMfAmpsU6PMtWuF...|                 null|\n",
      "+--------------------+--------------------+----------------------+---------------------+\n",
      "only showing top 20 rows\n",
      "\n"
     ]
    },
    {
     "name": "stderr",
     "output_type": "stream",
     "text": [
      "                                                                                \r"
     ]
    }
   ],
   "source": [
    "#Leemos la tabla de representantes\n",
    "df2=spark.sql(\"select REPR_FECHA_INICIO_VO, CONT_RUT,CONT_RUT_REPRESENTANTE,REPR_FECHA_TERMINO_VO from dw.dw_trn_djr_representantes_e \")\n",
    "df2.createOrReplaceTempView(\"representante\")\n",
    "spark.sql(\"select count(*) from representante\").show()\n",
    "df2.show()"
   ]
  },
  {
   "cell_type": "code",
   "execution_count": 8,
   "id": "f32b7a5b-47e1-4411-891f-2ee88c261edc",
   "metadata": {
    "tags": []
   },
   "outputs": [
    {
     "data": {
      "text/plain": [
       "StructType(List(StructField(REPR_FECHA_INICIO_VO,TimestampType,true),StructField(CONT_RUT,StringType,true),StructField(CONT_RUT_REPRESENTANTE,StringType,true),StructField(REPR_FECHA_TERMINO_VO,TimestampType,true)))"
      ]
     },
     "execution_count": 8,
     "metadata": {},
     "output_type": "execute_result"
    }
   ],
   "source": [
    "df2.schema"
   ]
  },
  {
   "cell_type": "code",
   "execution_count": 9,
   "id": "bea65941-5160-41c2-b1cb-14f375242195",
   "metadata": {},
   "outputs": [
    {
     "name": "stderr",
     "output_type": "stream",
     "text": [
      "                                                                                \r"
     ]
    },
    {
     "name": "stdout",
     "output_type": "stream",
     "text": [
      "+----------+\n",
      "|  count(1)|\n",
      "+----------+\n",
      "|4587633237|\n",
      "+----------+\n",
      "\n"
     ]
    },
    {
     "name": "stderr",
     "output_type": "stream",
     "text": [
      "[Stage 19:=======================================================>(72 + 1) / 73]\r"
     ]
    },
    {
     "name": "stdout",
     "output_type": "stream",
     "text": [
      "+--------------------+--------------------+--------+--------------+-------------------+--------------------+--------------------+----------------------+---------------------+\n",
      "|     dhdr_rut_emisor|      dhdr_rut_recep|dhdr_iva|dhdr_mnt_total|  dhdr_fch_emis_int|REPR_FECHA_INICIO_VO|            CONT_RUT|CONT_RUT_REPRESENTANTE|REPR_FECHA_TERMINO_VO|\n",
      "+--------------------+--------------------+--------+--------------+-------------------+--------------------+--------------------+----------------------+---------------------+\n",
      "|j0FHQ6UaKNQxOu96y...|+A3g1+/EJfrydhbuj...|    2126|   15000.00000|2022-04-12 00:00:00|                null|                null|                  null|                 null|\n",
      "|DTBFv1VPUYkO4Y67X...|+MsITdbQlcZeyFqxd...|    1812|   20000.00000|2020-05-07 00:00:00| 2018-01-26 03:00:00|+MsITdbQlcZeyFqxd...|  RF83ogK+o8eg4QDgr...|                 null|\n",
      "|GfR2x0Ls0uVIKj6/4...|+Qlzb+MF30dJxY1Ba...|    3671|   22990.00000|2022-03-14 00:00:00|                null|                null|                  null|                 null|\n",
      "|lQf9uiSq/jC5QS5sv...|+TztrybPoyAUGr4fT...|   12135|   76001.00000|2021-12-09 00:00:00|                null|                null|                  null|                 null|\n",
      "|rYxfDOtBEClh8Msqr...|+e8Bxt2k4u1PG5a2V...|   47336|  296471.00000|2020-02-27 00:00:00|                null|                null|                  null|                 null|\n",
      "|zxxGHPuDAIKi3/2Oh...|/Q1mP5lZCns8HDXys...|   10039|   62875.00000|2020-03-09 00:00:00|                null|                null|                  null|                 null|\n",
      "|ytU/ETAx1hyw04lpY...|/QaVst5UCrD98kUJx...|    4199|   26298.00000|2020-12-26 00:00:00|                null|                null|                  null|                 null|\n",
      "|bJKdHR49129UAVfbu...|/cdHRJeEisa/bkWbX...|       0|    8765.00000|2022-04-30 00:00:00|                null|                null|                  null|                 null|\n",
      "|QS/+2iMcyPpIBQkae...|/gpiS5iiByWsj51xM...|    1161|   10000.00000|2022-09-23 00:00:00| 2021-10-22 03:00:00|/gpiS5iiByWsj51xM...|  UJ/HleBFsxQD/24dA...|                 null|\n",
      "|d8AFF+OkQhiiaJJBa...|/kFRVvmkcHQTJNA3r...|       0|   92132.00000|2022-02-10 00:00:00| 1995-06-09 04:00:00|/kFRVvmkcHQTJNA3r...|  QCI+OJpLkoUS5NXnA...|                 null|\n",
      "|d8AFF+OkQhiiaJJBa...|/kFRVvmkcHQTJNA3r...|       0|   92132.00000|2022-02-10 00:00:00| 1995-06-09 04:00:00|/kFRVvmkcHQTJNA3r...|  sV5hLTK2a+MAR7QIo...|                 null|\n",
      "|d8AFF+OkQhiiaJJBa...|/nsd+6QBjLQln5/QC...|       0|    1947.00000|2021-02-23 00:00:00| 2020-08-10 04:00:00|/nsd+6QBjLQln5/QC...|  bjWFDhhmbxn3En5a9...|                 null|\n",
      "|ZS4qUiiL98kPhaTuo...|0TLcSGQy/CV9Y8cIZ...|    6894|   43178.00000|2022-10-21 00:00:00|                null|                null|                  null|                 null|\n",
      "|LyidM4STivOvQWtOh...|0VLjqZ235fEUKLmTW...|    8967|   56161.00000|2020-12-21 00:00:00| 2013-06-24 04:00:00|0VLjqZ235fEUKLmTW...|  p/YNi4f/iN5XX18U6...|                 null|\n",
      "|LyidM4STivOvQWtOh...|0VLjqZ235fEUKLmTW...|    8967|   56161.00000|2020-12-21 00:00:00| 1994-05-24 04:00:00|0VLjqZ235fEUKLmTW...|  zEkwj1ET2CAIqAOkJ...|                 null|\n",
      "|LyidM4STivOvQWtOh...|0VLjqZ235fEUKLmTW...|    8967|   56161.00000|2020-12-21 00:00:00| 1994-05-24 04:00:00|0VLjqZ235fEUKLmTW...|  5Ony1pwfJRnY6aK0G...|                 null|\n",
      "|Qef/VkMMZvRxclZKV...|0WhJhCR3feKuQjSIk...|    1835|   11493.00000|2021-09-30 00:00:00| 2017-02-03 03:00:00|0WhJhCR3feKuQjSIk...|  jZAIqrsXhe1vMNyIR...|                 null|\n",
      "|Qef/VkMMZvRxclZKV...|0WhJhCR3feKuQjSIk...|    1835|   11493.00000|2021-09-30 00:00:00| 2017-02-03 03:00:00|0WhJhCR3feKuQjSIk...|  sL1pRqcs23lJIYNlm...|                 null|\n",
      "|fNbGIovmthwhGeUH+...|0gPRXUjMnnZ8vjrSz...|   18398|  115227.00000|2022-03-08 00:00:00| 1995-05-17 04:00:00|0gPRXUjMnnZ8vjrSz...|  zfLvHiwL1Fw8wiui7...|                 null|\n",
      "|5HB2rGEUcM0y00eFo...|0gPRXUjMnnZ8vjrSz...|   19000|  119000.00000|2020-03-09 00:00:00| 1995-05-17 04:00:00|0gPRXUjMnnZ8vjrSz...|  zfLvHiwL1Fw8wiui7...|                 null|\n",
      "+--------------------+--------------------+--------+--------------+-------------------+--------------------+--------------------+----------------------+---------------------+\n",
      "only showing top 20 rows\n",
      "\n"
     ]
    },
    {
     "name": "stderr",
     "output_type": "stream",
     "text": [
      "                                                                                \r"
     ]
    }
   ],
   "source": [
    "\n",
    "# Unimos la tabla de relaciones comerciales con la tabla de representantes, se analizara el rut del receptor de la transaccion\n",
    "a=spark.sql(\"select * from comercial left join representante on comercial.dhdr_rut_recep=representante.CONT_RUT \")\n",
    "a.createOrReplaceTempView(\"tabla\")\n",
    "spark.sql(\" select count(*) from tabla\").show()\n",
    "\n",
    "a.show()"
   ]
  },
  {
   "cell_type": "code",
   "execution_count": 10,
   "id": "75daee0b-8ca7-4425-b560-3f2df8a8107b",
   "metadata": {},
   "outputs": [],
   "source": [
    "#Seleccionamos solamente las relaciones donde podemos asociar la transaccion a un representante de esa entidad"
   ]
  },
  {
   "cell_type": "code",
   "execution_count": 11,
   "id": "31886bac-2671-489f-a199-a19df6c75ddc",
   "metadata": {
    "tags": []
   },
   "outputs": [
    {
     "name": "stderr",
     "output_type": "stream",
     "text": [
      "                                                                                \r"
     ]
    },
    {
     "name": "stdout",
     "output_type": "stream",
     "text": [
      "+----------+\n",
      "|  count(1)|\n",
      "+----------+\n",
      "|4179352818|\n",
      "+----------+\n",
      "\n"
     ]
    },
    {
     "name": "stderr",
     "output_type": "stream",
     "text": [
      "[Stage 36:>                                                         (0 + 1) / 1]\r"
     ]
    },
    {
     "name": "stdout",
     "output_type": "stream",
     "text": [
      "+--------------------+--------------------+--------+--------------+-------------------+--------------------+--------------------+----------------------+---------------------+\n",
      "|     dhdr_rut_emisor|      dhdr_rut_recep|dhdr_iva|dhdr_mnt_total|  dhdr_fch_emis_int|REPR_FECHA_INICIO_VO|            CONT_RUT|CONT_RUT_REPRESENTANTE|REPR_FECHA_TERMINO_VO|\n",
      "+--------------------+--------------------+--------+--------------+-------------------+--------------------+--------------------+----------------------+---------------------+\n",
      "|OfOv6+ieOcqmCBoyJ...|+/+IMFryGSJkidvlc...|     778|    4870.00000|2022-05-25 00:00:00| 2018-10-31 03:00:00|+/+IMFryGSJkidvlc...|  Mw0g+csAAGNGXoHc9...|  2022-11-16 03:00:00|\n",
      "|OfOv6+ieOcqmCBoyJ...|+/+IMFryGSJkidvlc...|     778|    4870.00000|2022-05-25 00:00:00| 2022-11-16 03:00:00|+/+IMFryGSJkidvlc...|  TTj82VUvdHPsOutf5...|                 null|\n",
      "|FynCjCaAj9E3eByLf...|+/+IMFryGSJkidvlc...|    3800|   23800.00000|2022-04-14 00:00:00| 2018-10-31 03:00:00|+/+IMFryGSJkidvlc...|  Mw0g+csAAGNGXoHc9...|  2022-11-16 03:00:00|\n",
      "|FynCjCaAj9E3eByLf...|+/+IMFryGSJkidvlc...|    3800|   23800.00000|2022-04-14 00:00:00| 2022-11-16 03:00:00|+/+IMFryGSJkidvlc...|  TTj82VUvdHPsOutf5...|                 null|\n",
      "|PVFjiIt69vWZC2XGL...|+/+IMFryGSJkidvlc...|    4292|   26881.00000|2022-03-02 00:00:00| 2018-10-31 03:00:00|+/+IMFryGSJkidvlc...|  Mw0g+csAAGNGXoHc9...|  2022-11-16 03:00:00|\n",
      "|PVFjiIt69vWZC2XGL...|+/+IMFryGSJkidvlc...|    4292|   26881.00000|2022-03-02 00:00:00| 2022-11-16 03:00:00|+/+IMFryGSJkidvlc...|  TTj82VUvdHPsOutf5...|                 null|\n",
      "|tK7X+Q/ho2Fyh7clL...|+/+IMFryGSJkidvlc...|    4306|   26971.00000|2022-04-11 00:00:00| 2018-10-31 03:00:00|+/+IMFryGSJkidvlc...|  Mw0g+csAAGNGXoHc9...|  2022-11-16 03:00:00|\n",
      "|tK7X+Q/ho2Fyh7clL...|+/+IMFryGSJkidvlc...|    4306|   26971.00000|2022-04-11 00:00:00| 2022-11-16 03:00:00|+/+IMFryGSJkidvlc...|  TTj82VUvdHPsOutf5...|                 null|\n",
      "|PVFjiIt69vWZC2XGL...|+/+IMFryGSJkidvlc...|    1261|    7897.00000|2022-03-02 00:00:00| 2018-10-31 03:00:00|+/+IMFryGSJkidvlc...|  Mw0g+csAAGNGXoHc9...|  2022-11-16 03:00:00|\n",
      "|PVFjiIt69vWZC2XGL...|+/+IMFryGSJkidvlc...|    1261|    7897.00000|2022-03-02 00:00:00| 2022-11-16 03:00:00|+/+IMFryGSJkidvlc...|  TTj82VUvdHPsOutf5...|                 null|\n",
      "|dwElNqcCQQiFyI3ic...|+/+IMFryGSJkidvlc...|    3670|   22985.00000|2022-04-14 00:00:00| 2018-10-31 03:00:00|+/+IMFryGSJkidvlc...|  Mw0g+csAAGNGXoHc9...|  2022-11-16 03:00:00|\n",
      "|dwElNqcCQQiFyI3ic...|+/+IMFryGSJkidvlc...|    3670|   22985.00000|2022-04-14 00:00:00| 2022-11-16 03:00:00|+/+IMFryGSJkidvlc...|  TTj82VUvdHPsOutf5...|                 null|\n",
      "|P4hjpI0EdQaD5Qwrd...|+/+IMFryGSJkidvlc...|    5593|   35028.00000|2021-04-15 00:00:00| 2018-10-31 03:00:00|+/+IMFryGSJkidvlc...|  Mw0g+csAAGNGXoHc9...|  2022-11-16 03:00:00|\n",
      "|P4hjpI0EdQaD5Qwrd...|+/+IMFryGSJkidvlc...|    5593|   35028.00000|2021-04-15 00:00:00| 2022-11-16 03:00:00|+/+IMFryGSJkidvlc...|  TTj82VUvdHPsOutf5...|                 null|\n",
      "|shRPyAsNITRHoPWgK...|+/+IMFryGSJkidvlc...|   18810|  117810.00000|2021-02-03 00:00:00| 2018-10-31 03:00:00|+/+IMFryGSJkidvlc...|  Mw0g+csAAGNGXoHc9...|  2022-11-16 03:00:00|\n",
      "|shRPyAsNITRHoPWgK...|+/+IMFryGSJkidvlc...|   18810|  117810.00000|2021-02-03 00:00:00| 2022-11-16 03:00:00|+/+IMFryGSJkidvlc...|  TTj82VUvdHPsOutf5...|                 null|\n",
      "|P4hjpI0EdQaD5Qwrd...|+/+IMFryGSJkidvlc...|    5615|   35167.00000|2021-05-15 00:00:00| 2018-10-31 03:00:00|+/+IMFryGSJkidvlc...|  Mw0g+csAAGNGXoHc9...|  2022-11-16 03:00:00|\n",
      "|P4hjpI0EdQaD5Qwrd...|+/+IMFryGSJkidvlc...|    5615|   35167.00000|2021-05-15 00:00:00| 2022-11-16 03:00:00|+/+IMFryGSJkidvlc...|  TTj82VUvdHPsOutf5...|                 null|\n",
      "|PVFjiIt69vWZC2XGL...|+/+IMFryGSJkidvlc...|    2387|   14950.00000|2022-04-11 00:00:00| 2018-10-31 03:00:00|+/+IMFryGSJkidvlc...|  Mw0g+csAAGNGXoHc9...|  2022-11-16 03:00:00|\n",
      "|PVFjiIt69vWZC2XGL...|+/+IMFryGSJkidvlc...|    2387|   14950.00000|2022-04-11 00:00:00| 2022-11-16 03:00:00|+/+IMFryGSJkidvlc...|  TTj82VUvdHPsOutf5...|                 null|\n",
      "+--------------------+--------------------+--------+--------------+-------------------+--------------------+--------------------+----------------------+---------------------+\n",
      "only showing top 20 rows\n",
      "\n"
     ]
    },
    {
     "name": "stderr",
     "output_type": "stream",
     "text": [
      "                                                                                \r"
     ]
    }
   ],
   "source": [
    "b=spark.sql(\"select * from tabla where tabla.CONT_RUT is not null\")\n",
    "b.createOrReplaceTempView(\"tabla\")\n",
    "spark.sql(\" select count(*) from tabla\").show() # cantidad de entradas en la tabla\n",
    "b.show()\n"
   ]
  },
  {
   "cell_type": "code",
   "execution_count": 12,
   "id": "ae78e4dd-ccb0-4bea-acef-3a34ad81ada7",
   "metadata": {},
   "outputs": [
    {
     "name": "stderr",
     "output_type": "stream",
     "text": [
      "                                                                                \r"
     ]
    }
   ],
   "source": [
    "# Ahora se debe hacer el cruce de los contaminados\n",
    "df3 = spark.read.options(header=True,inferSchema=True,delimiter=\",\").csv(\"/home/cdsw/data/processed/contaminados.csv\")\n",
    "df3.createOrReplaceTempView(\"contaminados\")\n"
   ]
  },
  {
   "cell_type": "code",
   "execution_count": 13,
   "id": "abcfa62a-4020-4546-bcc5-284db3272e91",
   "metadata": {
    "tags": []
   },
   "outputs": [],
   "source": [
    "# Se une la data anterior con la tabla contaminados\n",
    "spark.sql(\"select * from tabla left join contaminados on tabla.CONT_RUT_REPRESENTANTE=contaminados.cont_rut\").createOrReplaceTempView(\"tabla\")"
   ]
  },
  {
   "cell_type": "code",
   "execution_count": 14,
   "id": "5eb4dfcc-c273-4a3c-978a-fdd5e448a034",
   "metadata": {
    "tags": []
   },
   "outputs": [
    {
     "name": "stderr",
     "output_type": "stream",
     "text": [
      "                                                                                ]\r"
     ]
    },
    {
     "name": "stdout",
     "output_type": "stream",
     "text": [
      "+----------+\n",
      "|  count(1)|\n",
      "+----------+\n",
      "|4179352818|\n",
      "+----------+\n",
      "\n"
     ]
    },
    {
     "name": "stderr",
     "output_type": "stream",
     "text": [
      "[Stage 54:>                                                         (0 + 1) / 1]]\r"
     ]
    },
    {
     "name": "stdout",
     "output_type": "stream",
     "text": [
      "+--------------------+--------------------+--------+--------------+-------------------+--------------------+--------------------+----------------------+---------------------+--------+-----+\n",
      "|     dhdr_rut_emisor|      dhdr_rut_recep|dhdr_iva|dhdr_mnt_total|  dhdr_fch_emis_int|REPR_FECHA_INICIO_VO|            CONT_RUT|CONT_RUT_REPRESENTANTE|REPR_FECHA_TERMINO_VO|cont_rut|score|\n",
      "+--------------------+--------------------+--------+--------------+-------------------+--------------------+--------------------+----------------------+---------------------+--------+-----+\n",
      "|PVFjiIt69vWZC2XGL...|+/+IMFryGSJkidvlc...|    1884|   11800.00000|2022-03-22 00:00:00| 2018-10-31 03:00:00|+/+IMFryGSJkidvlc...|  Mw0g+csAAGNGXoHc9...|  2022-11-16 03:00:00|    null| null|\n",
      "|PVFjiIt69vWZC2XGL...|+/+IMFryGSJkidvlc...|    1884|   11800.00000|2022-03-22 00:00:00| 2022-11-16 03:00:00|+/+IMFryGSJkidvlc...|  TTj82VUvdHPsOutf5...|                 null|    null| null|\n",
      "|WS8UGIQ0bEY4+F6ZQ...|+/+IMFryGSJkidvlc...|   26832|  168052.00000|2021-06-02 00:00:00| 2018-10-31 03:00:00|+/+IMFryGSJkidvlc...|  Mw0g+csAAGNGXoHc9...|  2022-11-16 03:00:00|    null| null|\n",
      "|WS8UGIQ0bEY4+F6ZQ...|+/+IMFryGSJkidvlc...|   26832|  168052.00000|2021-06-02 00:00:00| 2022-11-16 03:00:00|+/+IMFryGSJkidvlc...|  TTj82VUvdHPsOutf5...|                 null|    null| null|\n",
      "|PVFjiIt69vWZC2XGL...|+/+IMFryGSJkidvlc...|    2387|   14950.00000|2022-04-11 00:00:00| 2018-10-31 03:00:00|+/+IMFryGSJkidvlc...|  Mw0g+csAAGNGXoHc9...|  2022-11-16 03:00:00|    null| null|\n",
      "|PVFjiIt69vWZC2XGL...|+/+IMFryGSJkidvlc...|    2387|   14950.00000|2022-04-11 00:00:00| 2022-11-16 03:00:00|+/+IMFryGSJkidvlc...|  TTj82VUvdHPsOutf5...|                 null|    null| null|\n",
      "|mB1kyvShd16kHgeEd...|+/+IMFryGSJkidvlc...|    4260|   26679.00000|2021-05-03 00:00:00| 2018-10-31 03:00:00|+/+IMFryGSJkidvlc...|  Mw0g+csAAGNGXoHc9...|  2022-11-16 03:00:00|    null| null|\n",
      "|mB1kyvShd16kHgeEd...|+/+IMFryGSJkidvlc...|    4260|   26679.00000|2021-05-03 00:00:00| 2022-11-16 03:00:00|+/+IMFryGSJkidvlc...|  TTj82VUvdHPsOutf5...|                 null|    null| null|\n",
      "|PVFjiIt69vWZC2XGL...|+/+IMFryGSJkidvlc...|   26784|  167750.00000|2022-03-22 00:00:00| 2018-10-31 03:00:00|+/+IMFryGSJkidvlc...|  Mw0g+csAAGNGXoHc9...|  2022-11-16 03:00:00|    null| null|\n",
      "|PVFjiIt69vWZC2XGL...|+/+IMFryGSJkidvlc...|   26784|  167750.00000|2022-03-22 00:00:00| 2022-11-16 03:00:00|+/+IMFryGSJkidvlc...|  TTj82VUvdHPsOutf5...|                 null|    null| null|\n",
      "|P4hjpI0EdQaD5Qwrd...|+/+IMFryGSJkidvlc...|    5705|   35733.00000|2021-09-15 00:00:00| 2018-10-31 03:00:00|+/+IMFryGSJkidvlc...|  Mw0g+csAAGNGXoHc9...|  2022-11-16 03:00:00|    null| null|\n",
      "|P4hjpI0EdQaD5Qwrd...|+/+IMFryGSJkidvlc...|    5705|   35733.00000|2021-09-15 00:00:00| 2022-11-16 03:00:00|+/+IMFryGSJkidvlc...|  TTj82VUvdHPsOutf5...|                 null|    null| null|\n",
      "|d1ud7RniwWMUFavFi...|+/+IMFryGSJkidvlc...|     991|    7900.00000|2021-06-30 00:00:00| 2018-10-31 03:00:00|+/+IMFryGSJkidvlc...|  Mw0g+csAAGNGXoHc9...|  2022-11-16 03:00:00|    null| null|\n",
      "|d1ud7RniwWMUFavFi...|+/+IMFryGSJkidvlc...|     991|    7900.00000|2021-06-30 00:00:00| 2022-11-16 03:00:00|+/+IMFryGSJkidvlc...|  TTj82VUvdHPsOutf5...|                 null|    null| null|\n",
      "|OfOv6+ieOcqmCBoyJ...|+/+IMFryGSJkidvlc...|     778|    4870.00000|2022-05-25 00:00:00| 2018-10-31 03:00:00|+/+IMFryGSJkidvlc...|  Mw0g+csAAGNGXoHc9...|  2022-11-16 03:00:00|    null| null|\n",
      "|OfOv6+ieOcqmCBoyJ...|+/+IMFryGSJkidvlc...|     778|    4870.00000|2022-05-25 00:00:00| 2022-11-16 03:00:00|+/+IMFryGSJkidvlc...|  TTj82VUvdHPsOutf5...|                 null|    null| null|\n",
      "|W+KgSjqyg0ruXJt6O...|+/+IMFryGSJkidvlc...|    7983|   50000.00000|2022-01-20 00:00:00| 2018-10-31 03:00:00|+/+IMFryGSJkidvlc...|  Mw0g+csAAGNGXoHc9...|  2022-11-16 03:00:00|    null| null|\n",
      "|W+KgSjqyg0ruXJt6O...|+/+IMFryGSJkidvlc...|    7983|   50000.00000|2022-01-20 00:00:00| 2022-11-16 03:00:00|+/+IMFryGSJkidvlc...|  TTj82VUvdHPsOutf5...|                 null|    null| null|\n",
      "|P4hjpI0EdQaD5Qwrd...|+/+IMFryGSJkidvlc...|    5593|   35028.00000|2021-04-15 00:00:00| 2018-10-31 03:00:00|+/+IMFryGSJkidvlc...|  Mw0g+csAAGNGXoHc9...|  2022-11-16 03:00:00|    null| null|\n",
      "|P4hjpI0EdQaD5Qwrd...|+/+IMFryGSJkidvlc...|    5593|   35028.00000|2021-04-15 00:00:00| 2022-11-16 03:00:00|+/+IMFryGSJkidvlc...|  TTj82VUvdHPsOutf5...|                 null|    null| null|\n",
      "+--------------------+--------------------+--------+--------------+-------------------+--------------------+--------------------+----------------------+---------------------+--------+-----+\n",
      "only showing top 20 rows\n",
      "\n"
     ]
    },
    {
     "name": "stderr",
     "output_type": "stream",
     "text": [
      "                                                                                \r"
     ]
    }
   ],
   "source": [
    "# Se ve la cantidad de entradas de esa tabla\n",
    "spark.sql(\" select count(*) from tabla\").show()\n",
    "spark.sql(\"select * from tabla\").show()"
   ]
  },
  {
   "cell_type": "code",
   "execution_count": 15,
   "id": "5fa48d10-a27f-477a-8069-66d010ed75c1",
   "metadata": {
    "tags": []
   },
   "outputs": [
    {
     "name": "stderr",
     "output_type": "stream",
     "text": [
      "[Stage 60:=====================================================>(199 + 1) / 200]\r"
     ]
    },
    {
     "name": "stdout",
     "output_type": "stream",
     "text": [
      "+----------+\n",
      "|  count(1)|\n",
      "+----------+\n",
      "|1710444509|\n",
      "+----------+\n",
      "\n"
     ]
    },
    {
     "name": "stderr",
     "output_type": "stream",
     "text": [
      "                                                                                \r"
     ]
    }
   ],
   "source": [
    "# Se cruzan los valores donde las fechas de emision coincide con el periodo de algun representante de esa entidad\n",
    "spark.sql(\"select dhdr_rut_emisor,dhdr_rut_recep,dhdr_iva,REPR_FECHA_INICIO_VO, dhdr_fch_emis_int,REPR_FECHA_TERMINO_VO,CONT_RUT_REPRESENTANTE,score from tabla where (dhdr_fch_emis_int>=REPR_FECHA_INICIO_VO) and (dhdr_fch_emis_int<=REPR_FECHA_TERMINO_VO or REPR_FECHA_TERMINO_VO is null) and dhdr_iva>0\").createOrReplaceTempView(\"tabla\")\n",
    "spark.sql(\" select count(*) from tabla\").show()"
   ]
  },
  {
   "cell_type": "code",
   "execution_count": 16,
   "id": "43ac7912-36ab-4ab9-a1c5-979a05bada82",
   "metadata": {
    "tags": []
   },
   "outputs": [
    {
     "name": "stderr",
     "output_type": "stream",
     "text": [
      "[Stage 70:>                                                         (0 + 1) / 1]\r"
     ]
    },
    {
     "name": "stdout",
     "output_type": "stream",
     "text": [
      "+--------------------+--------------------+--------+--------------------+-------------------+---------------------+----------------------+-----+\n",
      "|     dhdr_rut_emisor|      dhdr_rut_recep|dhdr_iva|REPR_FECHA_INICIO_VO|  dhdr_fch_emis_int|REPR_FECHA_TERMINO_VO|CONT_RUT_REPRESENTANTE|score|\n",
      "+--------------------+--------------------+--------+--------------------+-------------------+---------------------+----------------------+-----+\n",
      "|PVFjiIt69vWZC2XGL...|+/+IMFryGSJkidvlc...|    2387| 2018-10-31 03:00:00|2022-04-11 00:00:00|  2022-11-16 03:00:00|  Mw0g+csAAGNGXoHc9...| null|\n",
      "|WS8UGIQ0bEY4+F6ZQ...|+/+IMFryGSJkidvlc...|   26832| 2018-10-31 03:00:00|2021-06-02 00:00:00|  2022-11-16 03:00:00|  Mw0g+csAAGNGXoHc9...| null|\n",
      "|P4hjpI0EdQaD5Qwrd...|+/+IMFryGSJkidvlc...|    5636| 2018-10-31 03:00:00|2021-06-15 00:00:00|  2022-11-16 03:00:00|  Mw0g+csAAGNGXoHc9...| null|\n",
      "|PVFjiIt69vWZC2XGL...|+/+IMFryGSJkidvlc...|    4774| 2018-10-31 03:00:00|2022-04-11 00:00:00|  2022-11-16 03:00:00|  Mw0g+csAAGNGXoHc9...| null|\n",
      "|shRPyAsNITRHoPWgK...|+/+IMFryGSJkidvlc...|   18811| 2018-10-31 03:00:00|2022-04-04 00:00:00|  2022-11-16 03:00:00|  Mw0g+csAAGNGXoHc9...| null|\n",
      "|FynCjCaAj9E3eByLf...|+/+IMFryGSJkidvlc...|    3800| 2018-10-31 03:00:00|2022-04-14 00:00:00|  2022-11-16 03:00:00|  Mw0g+csAAGNGXoHc9...| null|\n",
      "|P4hjpI0EdQaD5Qwrd...|+/+IMFryGSJkidvlc...|    5651| 2018-10-31 03:00:00|2021-07-15 00:00:00|  2022-11-16 03:00:00|  Mw0g+csAAGNGXoHc9...| null|\n",
      "|mB1kyvShd16kHgeEd...|+/+IMFryGSJkidvlc...|    4260| 2018-10-31 03:00:00|2021-05-03 00:00:00|  2022-11-16 03:00:00|  Mw0g+csAAGNGXoHc9...| null|\n",
      "|WS8UGIQ0bEY4+F6ZQ...|+/+IMFryGSJkidvlc...|   21376| 2018-10-31 03:00:00|2020-01-21 00:00:00|  2022-11-16 03:00:00|  Mw0g+csAAGNGXoHc9...| null|\n",
      "|tK7X+Q/ho2Fyh7clL...|+/+IMFryGSJkidvlc...|    4306| 2018-10-31 03:00:00|2022-04-11 00:00:00|  2022-11-16 03:00:00|  Mw0g+csAAGNGXoHc9...| null|\n",
      "|P4hjpI0EdQaD5Qwrd...|+/+IMFryGSJkidvlc...|    5737| 2018-10-31 03:00:00|2021-10-15 00:00:00|  2022-11-16 03:00:00|  Mw0g+csAAGNGXoHc9...| null|\n",
      "|PVFjiIt69vWZC2XGL...|+/+IMFryGSJkidvlc...|    1261| 2018-10-31 03:00:00|2022-03-02 00:00:00|  2022-11-16 03:00:00|  Mw0g+csAAGNGXoHc9...| null|\n",
      "|PVFjiIt69vWZC2XGL...|+/+IMFryGSJkidvlc...|   26784| 2018-10-31 03:00:00|2022-03-22 00:00:00|  2022-11-16 03:00:00|  Mw0g+csAAGNGXoHc9...| null|\n",
      "|W+KgSjqyg0ruXJt6O...|+/+IMFryGSJkidvlc...|    7983| 2018-10-31 03:00:00|2022-01-20 00:00:00|  2022-11-16 03:00:00|  Mw0g+csAAGNGXoHc9...| null|\n",
      "|fNbGIovmthwhGeUH+...|+/+IMFryGSJkidvlc...|    6066| 2018-10-31 03:00:00|2022-06-02 00:00:00|  2022-11-16 03:00:00|  Mw0g+csAAGNGXoHc9...| null|\n",
      "|P4hjpI0EdQaD5Qwrd...|+/+IMFryGSJkidvlc...|    5705| 2018-10-31 03:00:00|2021-09-15 00:00:00|  2022-11-16 03:00:00|  Mw0g+csAAGNGXoHc9...| null|\n",
      "|P4hjpI0EdQaD5Qwrd...|+/+IMFryGSJkidvlc...|    5664| 2018-10-31 03:00:00|2021-08-15 00:00:00|  2022-11-16 03:00:00|  Mw0g+csAAGNGXoHc9...| null|\n",
      "|PVFjiIt69vWZC2XGL...|+/+IMFryGSJkidvlc...|    1884| 2018-10-31 03:00:00|2022-03-22 00:00:00|  2022-11-16 03:00:00|  Mw0g+csAAGNGXoHc9...| null|\n",
      "|dwElNqcCQQiFyI3ic...|+/+IMFryGSJkidvlc...|    3670| 2018-10-31 03:00:00|2022-04-14 00:00:00|  2022-11-16 03:00:00|  Mw0g+csAAGNGXoHc9...| null|\n",
      "|PVFjiIt69vWZC2XGL...|+/+IMFryGSJkidvlc...|    4292| 2018-10-31 03:00:00|2022-03-02 00:00:00|  2022-11-16 03:00:00|  Mw0g+csAAGNGXoHc9...| null|\n",
      "+--------------------+--------------------+--------+--------------------+-------------------+---------------------+----------------------+-----+\n",
      "only showing top 20 rows\n",
      "\n"
     ]
    },
    {
     "name": "stderr",
     "output_type": "stream",
     "text": [
      "                                                                                \r"
     ]
    }
   ],
   "source": [
    "spark.sql(\" select * from tabla\").show()"
   ]
  },
  {
   "cell_type": "code",
   "execution_count": 17,
   "id": "0a688395-fbda-4d53-8388-4e3343f93aba",
   "metadata": {},
   "outputs": [],
   "source": [
    "\n",
    "# Se toman dos tablas donde hay coincidencia con alguna alerta y otra con todas las entradas para obtener la fraccion de documentos contaminados en numero y en valor\n",
    "spark.sql(\"select dhdr_rut_emisor,dhdr_rut_recep, count(*) as count1,sum(dhdr_iva) as sum1 from tabla where score is not null group by dhdr_rut_emisor,dhdr_rut_recep\").createOrReplaceTempView(\"aux2\")\n",
    "spark.sql(\"select dhdr_rut_emisor, dhdr_rut_recep, count(*) as count2,sum(dhdr_iva) as sum2 from tabla group by dhdr_rut_emisor,dhdr_rut_recep\").createOrReplaceTempView(\"aux1\")"
   ]
  },
  {
   "cell_type": "code",
   "execution_count": 18,
   "id": "7824618c-976c-4ca6-aa55-a23ff4263aca",
   "metadata": {},
   "outputs": [
    {
     "name": "stderr",
     "output_type": "stream",
     "text": [
      "[Stage 76:>                                                         (0 + 1) / 1]\r"
     ]
    },
    {
     "name": "stdout",
     "output_type": "stream",
     "text": [
      "+--------------------+--------------------+------+------+\n",
      "|     dhdr_rut_emisor|      dhdr_rut_recep|count2|  sum2|\n",
      "+--------------------+--------------------+------+------+\n",
      "|P4hjpI0EdQaD5Qwrd...|+/+IMFryGSJkidvlc...|     8| 45186|\n",
      "|OfOv6+ieOcqmCBoyJ...|+/+IMFryGSJkidvlc...|     1|   778|\n",
      "|Y5pbdrxQ5HDvyRGv2...|+/+IMFryGSJkidvlc...|     1|  3321|\n",
      "|d1ud7RniwWMUFavFi...|+/+IMFryGSJkidvlc...|     1|   991|\n",
      "|PVFjiIt69vWZC2XGL...|+/+IMFryGSJkidvlc...|     6| 41382|\n",
      "|WS8UGIQ0bEY4+F6ZQ...|+/+IMFryGSJkidvlc...|     2| 48208|\n",
      "|W+KgSjqyg0ruXJt6O...|+/+IMFryGSJkidvlc...|     2| 15966|\n",
      "|mB1kyvShd16kHgeEd...|+/+IMFryGSJkidvlc...|     2|  8390|\n",
      "|shRPyAsNITRHoPWgK...|+/+IMFryGSJkidvlc...|     2| 37621|\n",
      "|tK7X+Q/ho2Fyh7clL...|+/+IMFryGSJkidvlc...|     1|  4306|\n",
      "|fNbGIovmthwhGeUH+...|+/+IMFryGSJkidvlc...|     1|  6066|\n",
      "|FynCjCaAj9E3eByLf...|+/+IMFryGSJkidvlc...|     1|  3800|\n",
      "|dwElNqcCQQiFyI3ic...|+/+IMFryGSJkidvlc...|     1|  3670|\n",
      "|UmKrt88grTKYXaHL/...|+/+IMFryGSJkidvlc...|     1| 20755|\n",
      "|faeqzt85JrwoQ9Smc...|+03yIiPxc4t3f47ON...|     9| 59580|\n",
      "|NFDvPl1WXruP9vrWi...|+03yIiPxc4t3f47ON...|    11| 12858|\n",
      "|Pn1oFMN6vJsn1Lm2K...|+03yIiPxc4t3f47ON...|    28|444747|\n",
      "|9vElon9jEghUElY4f...|+03yIiPxc4t3f47ON...|    10| 59435|\n",
      "|O72w5i8fwyDt8NBv1...|+03yIiPxc4t3f47ON...|    25|176089|\n",
      "|452nQaJvtcmzmDt16...|+03yIiPxc4t3f47ON...|     6|139635|\n",
      "+--------------------+--------------------+------+------+\n",
      "only showing top 20 rows\n",
      "\n"
     ]
    },
    {
     "name": "stderr",
     "output_type": "stream",
     "text": [
      "                                                                                \r"
     ]
    }
   ],
   "source": [
    "spark.sql(\"select * from aux1\").show()"
   ]
  },
  {
   "cell_type": "code",
   "execution_count": 19,
   "id": "e8baf081-e9c6-46be-9c7a-f88846b8e07d",
   "metadata": {},
   "outputs": [
    {
     "name": "stderr",
     "output_type": "stream",
     "text": [
      "[Stage 85:=====================================================>(199 + 1) / 200]]]\r"
     ]
    },
    {
     "name": "stdout",
     "output_type": "stream",
     "text": [
      "+--------------------+--------------------+------+----+------+--------+\n",
      "|     dhdr_rut_emisor|      dhdr_rut_recep|count1|sum1|count2|    sum2|\n",
      "+--------------------+--------------------+------+----+------+--------+\n",
      "|+48A826qiPFGlOude...|+/40pDAlqnoiz6GKf...|     0|   0|     1|    4726|\n",
      "|/64tWUHj2Ry4OLQsQ...|+2rzYPrtJPDS7ymKO...|     0|   0|     6|   45600|\n",
      "|/8qbtwq80+Wh/t3S1...|++uB1C4MZTlgVpkTE...|     0|   0|     6|   57923|\n",
      "|/Ez/EVybs70vYyM+z...|+/40pDAlqnoiz6GKf...|     0|   0|     1|    1921|\n",
      "|1LuNfb/EedigHNhvO...|+/7DbRVkbRN/1wxN2...|     0|   0|     1|   22665|\n",
      "|2IUJpCOCUc3oDgrfV...|+0IpN6iICKxe6gzEp...|     0|   0|     4|  252510|\n",
      "|3EO9hWRn59P4/9DLB...|+2isYgNAQ5sgd+F1S...|     0|   0|     1|    5508|\n",
      "|3FOfVSnoQS2hp3tbe...|+/JJJahnlkwlGco4I...|     0|   0|    38|  109919|\n",
      "|3TRSFJYppOvPqehD+...|++S1yR/YEwaqUh6kQ...|     0|   0|     4| 1025620|\n",
      "|4RvHrmkpG2fP4DQop...|+2uSl7r/Qbddr9hGJ...|     0|   0|     1|    2578|\n",
      "|7RXlMqTEpHsde/zc3...|+/+b88HAubkiug11W...|     0|   0|     1|   17537|\n",
      "|8Pvp3yMUcDg/CauZj...|++2DK/e8a0qWOS7QA...|     0|   0|     2|    9574|\n",
      "|9C/M6hODy/wMyT6zR...|+00TjpDYYqU+a0ama...|     0|   0|     2|    6930|\n",
      "|A+2qlWuj7AjllMb1D...|+0C7u5pCjWkiOCSeZ...|     0|   0|     3|   52156|\n",
      "|A+lMVBFHRi8YlmQ8T...|++ZFDDW4EDPoAaMj8...|     0|   0|    16|   30984|\n",
      "|BEUv3VhE9jPXOQYEc...|++H9C/d7ihzov0uIY...|     0|   0|    37|  418825|\n",
      "|BW+VH8xbYX8+frjtP...|++NLsjlAw+wNNGd+2...|     0|   0|   766|15856466|\n",
      "|CDxQ1PM3F74tde60e...|++G/wrT25NOP1+TgZ...|     0|   0|     8|   49010|\n",
      "|DPG9tNC392abVJBsc...|+/0AmEMnrpuaTLl/P...|     0|   0|    28| 5944132|\n",
      "|E3hBTF42U3v/ofuic...|++v6CndnjNYZ5QwfD...|     0|   0|     1|    5420|\n",
      "+--------------------+--------------------+------+----+------+--------+\n",
      "only showing top 20 rows\n",
      "\n"
     ]
    },
    {
     "name": "stderr",
     "output_type": "stream",
     "text": [
      "                                                                                \r"
     ]
    }
   ],
   "source": [
    "spark.sql(\"select aux1.dhdr_rut_emisor as dhdr_rut_emisor, aux1.dhdr_rut_recep as dhdr_rut_recep, CASE WHEN count1 is null then 0 else count1 end as count1, CASE WHEN sum1 is null then 0 else sum1 end as sum1, count2, sum2 from aux1 left join aux2 on (aux1.dhdr_rut_emisor=aux2.dhdr_rut_emisor and aux1.dhdr_rut_recep=aux2.dhdr_rut_recep)\").createOrReplaceTempView(\"tabla\")\n",
    "spark.sql(\"select * from tabla\").show()"
   ]
  },
  {
   "cell_type": "code",
   "execution_count": 20,
   "id": "3738f58b-bbf9-414a-af20-049ca0143073",
   "metadata": {
    "tags": []
   },
   "outputs": [
    {
     "name": "stderr",
     "output_type": "stream",
     "text": [
      "[Stage 104:====================================================>(199 + 1) / 200]]]\r"
     ]
    },
    {
     "name": "stdout",
     "output_type": "stream",
     "text": [
      "+--------------------+--------------------+---+---+\n",
      "|     dhdr_rut_emisor|      dhdr_rut_recep| Fa| Fb|\n",
      "+--------------------+--------------------+---+---+\n",
      "|/64tWUHj2Ry4OLQsQ...|+2rzYPrtJPDS7ymKO...|0.0|0.0|\n",
      "|1LuNfb/EedigHNhvO...|+/7DbRVkbRN/1wxN2...|0.0|0.0|\n",
      "|1ML/TpSMSHZkR6uyS...|++xAo8llfd1Nuvsqi...|0.0|0.0|\n",
      "|2IUJpCOCUc3oDgrfV...|+0IpN6iICKxe6gzEp...|0.0|0.0|\n",
      "|3EO9hWRn59P4/9DLB...|+2isYgNAQ5sgd+F1S...|0.0|0.0|\n",
      "|3FOfVSnoQS2hp3tbe...|+/JJJahnlkwlGco4I...|0.0|0.0|\n",
      "|3TRSFJYppOvPqehD+...|++S1yR/YEwaqUh6kQ...|0.0|0.0|\n",
      "|4RvHrmkpG2fP4DQop...|+2uSl7r/Qbddr9hGJ...|0.0|0.0|\n",
      "|5sL7UjLBMhqYlBgF5...|++/UTl2mwL/J484yK...|0.0|0.0|\n",
      "|8Pvp3yMUcDg/CauZj...|++2DK/e8a0qWOS7QA...|0.0|0.0|\n",
      "|9C/M6hODy/wMyT6zR...|+00TjpDYYqU+a0ama...|0.0|0.0|\n",
      "|A+2qlWuj7AjllMb1D...|+0C7u5pCjWkiOCSeZ...|0.0|0.0|\n",
      "|A+lMVBFHRi8YlmQ8T...|++ZFDDW4EDPoAaMj8...|0.0|0.0|\n",
      "|AW9RBCycz8gmeN8Px...|++x8iI+s1LR4Ubwke...|0.0|0.0|\n",
      "|BEUv3VhE9jPXOQYEc...|++H9C/d7ihzov0uIY...|0.0|0.0|\n",
      "|CDxQ1PM3F74tde60e...|++G/wrT25NOP1+TgZ...|0.0|0.0|\n",
      "|DPG9tNC392abVJBsc...|+/0AmEMnrpuaTLl/P...|0.0|0.0|\n",
      "|DzcVHpqEO/sGLFiWW...|++/ILpGAKOZrH+0u+...|1.0|1.0|\n",
      "|E3hBTF42U3v/ofuic...|++v6CndnjNYZ5QwfD...|0.0|0.0|\n",
      "|Ec1zdxbL87k5/05k/...|++p4sNlacRQddmHnl...|0.0|0.0|\n",
      "+--------------------+--------------------+---+---+\n",
      "only showing top 20 rows\n",
      "\n"
     ]
    },
    {
     "name": "stderr",
     "output_type": "stream",
     "text": [
      "                                                                                \r"
     ]
    }
   ],
   "source": [
    "# Ahora se obtiene la proporcion es la fuerza entre las entidades, consideradas como la fraccion del iva contaminado en cantidad de documentos y monto de iva\n",
    "spark.sql(\"select dhdr_rut_emisor,dhdr_rut_recep,count1/count2 as Fa, sum1/sum2 as Fb from tabla\").createOrReplaceTempView(\"tabla\")\n",
    "spark.sql(\"SELECT *  from tabla\").show() "
   ]
  },
  {
   "cell_type": "code",
   "execution_count": 21,
   "id": "1ef73f35-830a-4727-a271-2de2819c43f1",
   "metadata": {
    "tags": []
   },
   "outputs": [],
   "source": [
    "# Promediamos las fracciones de iva contaminado para obtener una fuerza entre entidades\n",
    "spark.sql(\"select dhdr_rut_emisor,dhdr_rut_recep, round(Fa/2+Fb/2,5) as Fuerza from tabla\").createOrReplaceTempView(\"fuerza\")"
   ]
  },
  {
   "cell_type": "code",
   "execution_count": 22,
   "id": "cafce51c-d8d8-488a-8221-6812f9116272",
   "metadata": {
    "tags": []
   },
   "outputs": [
    {
     "name": "stderr",
     "output_type": "stream",
     "text": [
      "[Stage 123:====================================================>(199 + 1) / 200]]]4]\r"
     ]
    },
    {
     "name": "stdout",
     "output_type": "stream",
     "text": [
      "+--------------------+--------------------+-------+\n",
      "|     dhdr_rut_emisor|      dhdr_rut_recep| Fuerza|\n",
      "+--------------------+--------------------+-------+\n",
      "|++NLsjlAw+wNNGd+2...|G4XDNQmTxclvWTIci...|    0.5|\n",
      "|++NLsjlAw+wNNGd+2...|j/aV9Toizx+1oac0G...|0.33333|\n",
      "|+0SBLQbdcvtL6VPcw...|LYo+m51vqYGUYeXBx...|    1.0|\n",
      "|+0yKx5GSw/Q5FoSrp...|HxGVIQOZZnJ1C57zz...|    0.2|\n",
      "|+48A826qiPFGlOude...|ZvAsOkvX0nh79eZXP...|0.55556|\n",
      "|+5mmEatCPHGP3VkKB...|Wz8VWDd0OWFPESA6E...|    1.0|\n",
      "|+67fL4Fs9VqDibQd/...|xHuR8cmgrdhfl92rl...|0.88889|\n",
      "|+6Ero2RCzMBYfHDNC...|788kcQ8vBx8XfZnJZ...|    0.5|\n",
      "|+7O+UcfcjsNMAya4B...|MtMjNMiVlit5NhNDS...|    0.5|\n",
      "|+7j69Vma7N8Z9VZfO...|yLUXbSNvA8Z5v+Y0V...|    0.2|\n",
      "|+7xx5hIMfnDou08LO...|ZPCkeS4Zcs7nuzryc...|0.33333|\n",
      "|+80M6qAvWwGPTaLtJ...|G9eDTGzw9Wah4cD16...|    1.0|\n",
      "|+97NJ1GrQJwtF9fZJ...|fsi/Uxh68goETuKUy...|    1.0|\n",
      "|+A5Hi+quGhDHPaCxH...|ySnRI/X6fCyGiKYdH...|0.33333|\n",
      "|+B8YsURwxpT5lsGEW...|XYNSOZv0qavlrjHzT...|    1.0|\n",
      "|+D+jHBPZmuCKpOauO...|/y4WgNbRcqzW2/YzI...|    1.0|\n",
      "|+DI5e8Qj0bzKvMF9j...|/s4isQocWOZUyF/ti...|    1.0|\n",
      "|+DI5e8Qj0bzKvMF9j...|6+42oqUYnuvxgLU2o...|0.06244|\n",
      "|+DI5e8Qj0bzKvMF9j...|O+DZofuhesWlkbAxy...|    1.0|\n",
      "|+DI5e8Qj0bzKvMF9j...|hT7YU7z4SG16p3xqa...|    1.0|\n",
      "+--------------------+--------------------+-------+\n",
      "only showing top 20 rows\n",
      "\n"
     ]
    },
    {
     "name": "stderr",
     "output_type": "stream",
     "text": [
      "                                                                                \r"
     ]
    }
   ],
   "source": [
    "spark.sql(\"select * from fuerza where Fuerza>0\").show()"
   ]
  },
  {
   "cell_type": "code",
   "execution_count": 23,
   "id": "157df721-74d8-47e3-b7ec-a3441b28ca6f",
   "metadata": {
    "tags": []
   },
   "outputs": [],
   "source": [
    "spark.sql(\"select dhdr_rut_emisor as emisor,dhdr_rut_recep as receptor, Fuerza as Fi from fuerza  where Fuerza>0 \").createOrReplaceTempView(\"fuerza\")\n"
   ]
  },
  {
   "cell_type": "code",
   "execution_count": 24,
   "id": "4862379e-84e2-4aa3-b072-eef41d68df03",
   "metadata": {},
   "outputs": [],
   "source": [
    "#spark.sql(\"SELECT *  from fuerza order by Fi asc\").show() \n",
    "#spark.sql(\"SELECT *  from fuerza order by Fi desc\").show() "
   ]
  },
  {
   "cell_type": "code",
   "execution_count": 25,
   "id": "dedce9bf-7371-4bcc-b41f-dd5591f24dc9",
   "metadata": {
    "tags": []
   },
   "outputs": [
    {
     "name": "stderr",
     "output_type": "stream",
     "text": [
      "                                                                                ]]4]\r"
     ]
    }
   ],
   "source": [
    "representante=spark.sql(\"select *  from fuerza\").toPandas()\n",
    "representante.to_csv('/home/cdsw/data/processed/fuerza_representante.csv', index=False)"
   ]
  }
 ],
 "metadata": {
  "kernelspec": {
   "display_name": "Python 3 (ipykernel)",
   "language": "python",
   "name": "python3"
  },
  "language_info": {
   "codemirror_mode": {
    "name": "ipython",
    "version": 3
   },
   "file_extension": ".py",
   "mimetype": "text/x-python",
   "name": "python",
   "nbconvert_exporter": "python",
   "pygments_lexer": "ipython3",
   "version": "3.10.13"
  }
 },
 "nbformat": 4,
 "nbformat_minor": 5
}
