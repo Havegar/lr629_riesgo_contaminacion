{
 "cells": [
  {
   "cell_type": "markdown",
   "id": "5f34094f-ab90-41ce-9a78-bc01d9e216c9",
   "metadata": {},
   "source": [
    "## Apiux & SII: Transformacion de contribuyentes con alertas tributarias a contaminados\n",
    "## ATENCION: proyecto sujeto a mantenimiento continuo. \n",
    "\n",
    "## Henry Vega (henrry.vega@api-ux.com)\n",
    "## Data analyst"
   ]
  },
  {
   "cell_type": "code",
   "execution_count": 1,
   "id": "25fa7e0e-a70f-4278-88fd-a75be5c2a427",
   "metadata": {
    "tags": []
   },
   "outputs": [],
   "source": [
    "from pyspark.sql import SparkSession\n",
    "from pyspark.sql.functions import *\n",
    "from pyspark import SparkContext, SparkConf\n",
    "import pyspark\n",
    "import pandas as pd\n",
    "import warnings\n",
    "warnings.filterwarnings('ignore', category=DeprecationWarning)\n",
    "from pyspark.sql.types import IntegerType,BooleanType,DateType,StringType"
   ]
  },
  {
   "cell_type": "code",
   "execution_count": 2,
   "id": "963a50a8-c3d1-4109-8190-57b5a75f166e",
   "metadata": {
    "tags": []
   },
   "outputs": [
    {
     "name": "stderr",
     "output_type": "stream",
     "text": [
      "Setting spark.hadoop.yarn.resourcemanager.principal to yasser.nanjari\n"
     ]
    }
   ],
   "source": [
    "spark = SparkSession.builder \\\n",
    "  .appName(\"Test\")  \\\n",
    "  .config(\"spark.kerberos.access.hadoopFileSystems\",\"abfs://data@datalakesii.dfs.core.windows.net/\") \\\n",
    "  .config(\"spark.executor.memory\", \"16g\") \\\n",
    "  .config(\"spark.driver.memory\", \"12g\")\\\n",
    "  .config(\"spark.executor.cores\", \"2\") \\\n",
    "  .config(\"spark.driver.maxResultSize\", \"12g\") \\\n",
    "  .getOrCreate()\n",
    "warnings.filterwarnings('ignore', category=DeprecationWarning)\n",
    "sc=spark.sparkContext\n",
    "sc.setLogLevel ('ERROR')\n",
    "spark.conf.set(\"spark.sql.parquet.int96RebaseModeInRead\", \"CORRECTED\")\n",
    "spark.conf.set(\"spark.sql.parquet.enableVectorizedReader\",\"false\")\n",
    "spark.conf.set(\"spark.sql.parquet.int96RebaseModeInRead\", \"CORRECTED\")\n",
    "spark.conf.set(\"spark.sql.parquet.int96RebaseModeInWrite\", \"CORRECTED\")\n",
    "spark.conf.set(\"spark.sql.parquet.datetimeRebaseModeInRead\", \"CORRECTED\")\n",
    "spark.conf.set(\"spark.sql.parquet.datetimeRebaseModeInWrite\", \"CORRECTED\")"
   ]
  },
  {
   "cell_type": "code",
   "execution_count": 4,
   "id": "f465b8a0-d5c6-4746-8d03-3adbf4bb3122",
   "metadata": {
    "tags": []
   },
   "outputs": [
    {
     "name": "stderr",
     "output_type": "stream",
     "text": [
      "                                                                                \r"
     ]
    }
   ],
   "source": [
    "Carpeta = \"Proceso Renta 2024/\"\n",
    "Archivo = \"ALERTAS_ACTIVAS_2023-2.csv\"\n",
    "Carpeta_Salida = \"Renta 2024/\"\n",
    "PATH = \"../../\"\n",
    "ALERTAS = \"4110, 4111, 4112, 4113\"\n",
    "\n",
    "csv_path = PATH+\"data/raw/\"+Carpeta+Archivo\n",
    "a = spark.read.option(\"header\", \"true\").option(\"delimiter\", \";\").csv(csv_path)"
   ]
  },
  {
   "cell_type": "code",
   "execution_count": 5,
   "id": "219fc734-12e5-4fb6-b478-98fa8cb72038",
   "metadata": {
    "tags": []
   },
   "outputs": [
    {
     "name": "stdout",
     "output_type": "stream",
     "text": [
      "root\n",
      " |-- CONT_RUT_E: string (nullable = true)\n",
      " |-- ALER_COD_TIPO_ALERTA: string (nullable = true)\n",
      "\n"
     ]
    }
   ],
   "source": [
    "#Columnas del dataframe\n",
    "a.printSchema()"
   ]
  },
  {
   "cell_type": "code",
   "execution_count": 6,
   "id": "d7012857-e644-4641-af37-b6d55d1d88af",
   "metadata": {
    "tags": []
   },
   "outputs": [],
   "source": [
    "a.createOrReplaceTempView(\"alertas\")"
   ]
  },
  {
   "cell_type": "code",
   "execution_count": 7,
   "id": "dd772d02-0d97-47d2-a204-3ed851d2380c",
   "metadata": {
    "tags": []
   },
   "outputs": [],
   "source": [
    "spark.sql(f'SELECT * FROM alertas WHERE ALER_COD_TIPO_ALERTA IN ({ALERTAS})').createOrReplaceTempView(\"alertas\")"
   ]
  },
  {
   "cell_type": "markdown",
   "id": "6ca1fd35-745f-4897-a178-6d206378ee96",
   "metadata": {},
   "source": [
    "Por lo cual, tenemos 25647 contribuyentes contaminados con alguna alerta. Se exportara el dataset con un valor 1 como score para estos contribuyentes. "
   ]
  },
  {
   "cell_type": "code",
   "execution_count": 8,
   "id": "19af7ecb-5d8a-4d16-801e-1a85064e8bcd",
   "metadata": {
    "tags": []
   },
   "outputs": [
    {
     "name": "stderr",
     "output_type": "stream",
     "text": [
      "                                                                                \r"
     ]
    }
   ],
   "source": [
    "out=spark.sql(\"SELECT CONT_RUT_E as CONT_RUT, 1 as score from alertas\").toPandas()\n",
    "out.reset_index(drop=True).to_csv(f'/home/cdsw/data/processed/{Carpeta_Salida}contaminados.csv',index=False)  "
   ]
  }
 ],
 "metadata": {
  "kernelspec": {
   "display_name": "Python 3 (ipykernel)",
   "language": "python",
   "name": "python3"
  },
  "language_info": {
   "codemirror_mode": {
    "name": "ipython",
    "version": 3
   },
   "file_extension": ".py",
   "mimetype": "text/x-python",
   "name": "python",
   "nbconvert_exporter": "python",
   "pygments_lexer": "ipython3",
   "version": "3.10.13"
  }
 },
 "nbformat": 4,
 "nbformat_minor": 5
}
