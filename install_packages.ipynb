{
 "cells": [
  {
   "cell_type": "code",
   "execution_count": 1,
   "id": "dce1d441-c82b-459f-a701-7874272fbf1a",
   "metadata": {
    "tags": []
   },
   "outputs": [
    {
     "name": "stdout",
     "output_type": "stream",
     "text": [
      "Collecting pandas\n",
      "  Downloading pandas-1.3.5-cp37-cp37m-manylinux_2_17_x86_64.manylinux2014_x86_64.whl (11.3 MB)\n",
      "\u001b[2K     \u001b[90m━━━━━━━━━━━━━━━━━━━━━━━━━━━━━━━━━━━━━━━━\u001b[0m \u001b[32m11.3/11.3 MB\u001b[0m \u001b[31m35.6 MB/s\u001b[0m eta \u001b[36m0:00:00\u001b[0m00:01\u001b[0m00:01\u001b[0m\n",
      "\u001b[?25hRequirement already satisfied: python-dateutil>=2.7.3 in /usr/local/lib/python3.7/site-packages (from pandas) (2.8.2)\n",
      "Requirement already satisfied: pytz>=2017.3 in /usr/local/lib/python3.7/site-packages (from pandas) (2021.1)\n",
      "Requirement already satisfied: numpy>=1.17.3 in /usr/local/lib/python3.7/site-packages (from pandas) (1.21.6)\n",
      "Requirement already satisfied: six>=1.5 in /usr/local/lib/python3.7/site-packages (from python-dateutil>=2.7.3->pandas) (1.16.0)\n",
      "Installing collected packages: pandas\n",
      "Successfully installed pandas-1.3.5\n",
      "Note: you may need to restart the kernel to use updated packages.\n"
     ]
    }
   ],
   "source": [
    "pip install pandas"
   ]
  },
  {
   "cell_type": "code",
   "execution_count": 2,
   "id": "4603bbaa-1396-4521-8456-40ff87e71a2f",
   "metadata": {
    "tags": []
   },
   "outputs": [
    {
     "name": "stdout",
     "output_type": "stream",
     "text": [
      "Collecting seaborn\n",
      "  Downloading seaborn-0.12.2-py3-none-any.whl (293 kB)\n",
      "\u001b[2K     \u001b[90m━━━━━━━━━━━━━━━━━━━━━━━━━━━━━━━━━━━━━━\u001b[0m \u001b[32m293.3/293.3 kB\u001b[0m \u001b[31m13.7 MB/s\u001b[0m eta \u001b[36m0:00:00\u001b[0m\n",
      "\u001b[?25hRequirement already satisfied: numpy!=1.24.0,>=1.17 in /usr/local/lib/python3.7/site-packages (from seaborn) (1.21.6)\n",
      "Requirement already satisfied: pandas>=0.25 in ./.local/lib/python3.7/site-packages (from seaborn) (1.3.5)\n",
      "Requirement already satisfied: matplotlib!=3.6.1,>=3.1 in /usr/local/lib/python3.7/site-packages (from seaborn) (3.3.4)\n",
      "Requirement already satisfied: typing_extensions in /usr/local/lib/python3.7/site-packages (from seaborn) (4.3.0)\n",
      "Requirement already satisfied: cycler>=0.10 in /usr/local/lib/python3.7/site-packages (from matplotlib!=3.6.1,>=3.1->seaborn) (0.11.0)\n",
      "Requirement already satisfied: kiwisolver>=1.0.1 in /usr/local/lib/python3.7/site-packages (from matplotlib!=3.6.1,>=3.1->seaborn) (1.4.4)\n",
      "Requirement already satisfied: pillow>=6.2.0 in /usr/local/lib/python3.7/site-packages (from matplotlib!=3.6.1,>=3.1->seaborn) (9.3.0)\n",
      "Requirement already satisfied: pyparsing!=2.0.4,!=2.1.2,!=2.1.6,>=2.0.3 in /usr/local/lib/python3.7/site-packages (from matplotlib!=3.6.1,>=3.1->seaborn) (3.0.9)\n",
      "Requirement already satisfied: python-dateutil>=2.1 in /usr/local/lib/python3.7/site-packages (from matplotlib!=3.6.1,>=3.1->seaborn) (2.8.2)\n",
      "Requirement already satisfied: pytz>=2017.3 in /usr/local/lib/python3.7/site-packages (from pandas>=0.25->seaborn) (2021.1)\n",
      "Requirement already satisfied: six>=1.5 in /usr/local/lib/python3.7/site-packages (from python-dateutil>=2.1->matplotlib!=3.6.1,>=3.1->seaborn) (1.16.0)\n",
      "Installing collected packages: seaborn\n",
      "Successfully installed seaborn-0.12.2\n",
      "Note: you may need to restart the kernel to use updated packages.\n"
     ]
    }
   ],
   "source": [
    "pip install seaborn "
   ]
  },
  {
   "cell_type": "code",
   "execution_count": 3,
   "id": "c7a542ab-5696-4d0b-9168-884b994e251e",
   "metadata": {
    "tags": []
   },
   "outputs": [
    {
     "name": "stdout",
     "output_type": "stream",
     "text": [
      "Requirement already satisfied: numpy in /usr/local/lib/python3.7/site-packages (1.21.6)\n",
      "Note: you may need to restart the kernel to use updated packages.\n"
     ]
    }
   ],
   "source": [
    "pip install numpy "
   ]
  },
  {
   "cell_type": "code",
   "execution_count": 4,
   "id": "69e9dbd9-5647-4901-807f-859c6d63b511",
   "metadata": {
    "tags": []
   },
   "outputs": [
    {
     "name": "stdout",
     "output_type": "stream",
     "text": [
      "Requirement already satisfied: matplotlib in /usr/local/lib/python3.7/site-packages (3.3.4)\n",
      "Requirement already satisfied: cycler>=0.10 in /usr/local/lib/python3.7/site-packages (from matplotlib) (0.11.0)\n",
      "Requirement already satisfied: kiwisolver>=1.0.1 in /usr/local/lib/python3.7/site-packages (from matplotlib) (1.4.4)\n",
      "Requirement already satisfied: numpy>=1.15 in /usr/local/lib/python3.7/site-packages (from matplotlib) (1.21.6)\n",
      "Requirement already satisfied: pillow>=6.2.0 in /usr/local/lib/python3.7/site-packages (from matplotlib) (9.3.0)\n",
      "Requirement already satisfied: pyparsing!=2.0.4,!=2.1.2,!=2.1.6,>=2.0.3 in /usr/local/lib/python3.7/site-packages (from matplotlib) (3.0.9)\n",
      "Requirement already satisfied: python-dateutil>=2.1 in /usr/local/lib/python3.7/site-packages (from matplotlib) (2.8.2)\n",
      "Requirement already satisfied: typing-extensions in /usr/local/lib/python3.7/site-packages (from kiwisolver>=1.0.1->matplotlib) (4.3.0)\n",
      "Requirement already satisfied: six>=1.5 in /usr/local/lib/python3.7/site-packages (from python-dateutil>=2.1->matplotlib) (1.16.0)\n",
      "Note: you may need to restart the kernel to use updated packages.\n"
     ]
    }
   ],
   "source": [
    "pip install matplotlib"
   ]
  },
  {
   "cell_type": "code",
   "execution_count": 5,
   "id": "81375224-86a7-40d8-ac4e-c3c715da0745",
   "metadata": {
    "tags": []
   },
   "outputs": [
    {
     "name": "stdout",
     "output_type": "stream",
     "text": [
      "Collecting networkx\n",
      "  Downloading networkx-2.6.3-py3-none-any.whl (1.9 MB)\n",
      "\u001b[2K     \u001b[90m━━━━━━━━━━━━━━━━━━━━━━━━━━━━━━━━━━━━━━━━\u001b[0m \u001b[32m1.9/1.9 MB\u001b[0m \u001b[31m11.8 MB/s\u001b[0m eta \u001b[36m0:00:00\u001b[0m00:01\u001b[0m\n",
      "\u001b[?25hInstalling collected packages: networkx\n",
      "Successfully installed networkx-2.6.3\n",
      "Note: you may need to restart the kernel to use updated packages.\n"
     ]
    }
   ],
   "source": [
    "pip install networkx"
   ]
  },
  {
   "cell_type": "code",
   "execution_count": 6,
   "id": "a00b2e28-236e-4b17-968b-d28666936120",
   "metadata": {
    "tags": []
   },
   "outputs": [
    {
     "name": "stdout",
     "output_type": "stream",
     "text": [
      "Collecting pyspark_dist_explore\n",
      "  Using cached pyspark_dist_explore-0.1.8-py3-none-any.whl (7.2 kB)\n",
      "Requirement already satisfied: pandas in ./.local/lib/python3.7/site-packages (from pyspark_dist_explore) (1.3.5)\n",
      "Requirement already satisfied: numpy in /usr/local/lib/python3.7/site-packages (from pyspark_dist_explore) (1.21.6)\n",
      "Collecting scipy (from pyspark_dist_explore)\n",
      "  Downloading scipy-1.7.3-cp37-cp37m-manylinux_2_12_x86_64.manylinux2010_x86_64.whl (38.1 MB)\n",
      "\u001b[2K     \u001b[90m━━━━━━━━━━━━━━━━━━━━━━━━━━━━━━━━━━━━━━━━\u001b[0m \u001b[32m38.1/38.1 MB\u001b[0m \u001b[31m5.1 MB/s\u001b[0m eta \u001b[36m0:00:00\u001b[0m:00:01\u001b[0m00:01\u001b[0m\n",
      "\u001b[?25hRequirement already satisfied: matplotlib in /usr/local/lib/python3.7/site-packages (from pyspark_dist_explore) (3.3.4)\n",
      "Requirement already satisfied: cycler>=0.10 in /usr/local/lib/python3.7/site-packages (from matplotlib->pyspark_dist_explore) (0.11.0)\n",
      "Requirement already satisfied: kiwisolver>=1.0.1 in /usr/local/lib/python3.7/site-packages (from matplotlib->pyspark_dist_explore) (1.4.4)\n",
      "Requirement already satisfied: pillow>=6.2.0 in /usr/local/lib/python3.7/site-packages (from matplotlib->pyspark_dist_explore) (9.3.0)\n",
      "Requirement already satisfied: pyparsing!=2.0.4,!=2.1.2,!=2.1.6,>=2.0.3 in /usr/local/lib/python3.7/site-packages (from matplotlib->pyspark_dist_explore) (3.0.9)\n",
      "Requirement already satisfied: python-dateutil>=2.1 in /usr/local/lib/python3.7/site-packages (from matplotlib->pyspark_dist_explore) (2.8.2)\n",
      "Requirement already satisfied: pytz>=2017.3 in /usr/local/lib/python3.7/site-packages (from pandas->pyspark_dist_explore) (2021.1)\n",
      "Requirement already satisfied: typing-extensions in /usr/local/lib/python3.7/site-packages (from kiwisolver>=1.0.1->matplotlib->pyspark_dist_explore) (4.3.0)\n",
      "Requirement already satisfied: six>=1.5 in /usr/local/lib/python3.7/site-packages (from python-dateutil>=2.1->matplotlib->pyspark_dist_explore) (1.16.0)\n",
      "Installing collected packages: scipy, pyspark_dist_explore\n",
      "Successfully installed pyspark_dist_explore-0.1.8 scipy-1.7.3\n",
      "Note: you may need to restart the kernel to use updated packages.\n"
     ]
    }
   ],
   "source": [
    "pip install pyspark_dist_explore"
   ]
  },
  {
   "cell_type": "code",
   "execution_count": 2,
   "id": "d2ae8c88-9233-4128-b0bf-396f2b441e74",
   "metadata": {},
   "outputs": [
    {
     "name": "stdout",
     "output_type": "stream",
     "text": [
      "Requirement already satisfied: cdlib in ./.local/lib/python3.9/site-packages (0.3.0)\n",
      "Requirement already satisfied: pyvis in ./.local/lib/python3.9/site-packages (0.3.2)\n",
      "Requirement already satisfied: networkx in ./.local/lib/python3.9/site-packages (3.2.1)\n",
      "Collecting infomap\n",
      "  Downloading infomap-2.7.1.tar.gz (263 kB)\n",
      "\u001b[2K     \u001b[90m━━━━━━━━━━━━━━━━━━━━━━━━━━━━━━━━━━━━━━\u001b[0m \u001b[32m263.1/263.1 kB\u001b[0m \u001b[31m10.1 MB/s\u001b[0m eta \u001b[36m0:00:00\u001b[0m\n",
      "\u001b[?25h  Preparing metadata (setup.py) ... \u001b[?25ldone\n",
      "\u001b[?25hRequirement already satisfied: numpy in ./.local/lib/python3.9/site-packages (from cdlib) (1.26.2)\n",
      "Requirement already satisfied: matplotlib in /usr/local/lib/python3.9/site-packages (from cdlib) (3.7.0)\n",
      "Requirement already satisfied: scikit-learn in ./.local/lib/python3.9/site-packages (from cdlib) (1.4.0)\n",
      "Requirement already satisfied: tqdm in ./.local/lib/python3.9/site-packages (from cdlib) (4.66.1)\n",
      "Requirement already satisfied: demon in ./.local/lib/python3.9/site-packages (from cdlib) (2.0.6)\n",
      "Requirement already satisfied: python-louvain>=0.16 in ./.local/lib/python3.9/site-packages (from cdlib) (0.16)\n",
      "Requirement already satisfied: nf1 in ./.local/lib/python3.9/site-packages (from cdlib) (0.0.4)\n",
      "Requirement already satisfied: scipy in ./.local/lib/python3.9/site-packages (from cdlib) (1.11.3)\n",
      "Requirement already satisfied: pulp in ./.local/lib/python3.9/site-packages (from cdlib) (2.8.0)\n",
      "Requirement already satisfied: seaborn in ./.local/lib/python3.9/site-packages (from cdlib) (0.13.0)\n",
      "Requirement already satisfied: pandas in ./.local/lib/python3.9/site-packages (from cdlib) (2.1.3)\n",
      "Requirement already satisfied: eva-lcd in ./.local/lib/python3.9/site-packages (from cdlib) (0.1.1)\n",
      "Requirement already satisfied: bimlpa in ./.local/lib/python3.9/site-packages (from cdlib) (0.1.2)\n",
      "Requirement already satisfied: markov-clustering in ./.local/lib/python3.9/site-packages (from cdlib) (0.0.6.dev0)\n",
      "Requirement already satisfied: python-igraph>=0.10 in ./.local/lib/python3.9/site-packages (from cdlib) (0.11.3)\n",
      "Requirement already satisfied: angelcommunity in ./.local/lib/python3.9/site-packages (from cdlib) (2.0.0)\n",
      "Requirement already satisfied: pooch in ./.local/lib/python3.9/site-packages (from cdlib) (1.8.0)\n",
      "Requirement already satisfied: dynetx in ./.local/lib/python3.9/site-packages (from cdlib) (0.3.2)\n",
      "Requirement already satisfied: thresholdclustering in ./.local/lib/python3.9/site-packages (from cdlib) (1.1)\n",
      "Requirement already satisfied: python-Levenshtein in ./.local/lib/python3.9/site-packages (from cdlib) (0.23.0)\n",
      "Requirement already satisfied: ipython>=5.3.0 in /usr/local/lib/python3.9/site-packages (from pyvis) (8.10.0)\n",
      "Requirement already satisfied: jinja2>=2.9.6 in /usr/local/lib/python3.9/site-packages (from pyvis) (3.1.1)\n",
      "Requirement already satisfied: jsonpickle>=1.4.1 in ./.local/lib/python3.9/site-packages (from pyvis) (3.0.2)\n",
      "Requirement already satisfied: backcall in /usr/local/lib/python3.9/site-packages (from ipython>=5.3.0->pyvis) (0.2.0)\n",
      "Requirement already satisfied: decorator in /usr/local/lib/python3.9/site-packages (from ipython>=5.3.0->pyvis) (4.4.2)\n",
      "Requirement already satisfied: jedi>=0.16 in /usr/local/lib/python3.9/site-packages (from ipython>=5.3.0->pyvis) (0.18.2)\n",
      "Requirement already satisfied: matplotlib-inline in /usr/local/lib/python3.9/site-packages (from ipython>=5.3.0->pyvis) (0.1.3)\n",
      "Requirement already satisfied: pickleshare in /usr/local/lib/python3.9/site-packages (from ipython>=5.3.0->pyvis) (0.7.5)\n",
      "Requirement already satisfied: prompt-toolkit<3.1.0,>=3.0.30 in /usr/local/lib/python3.9/site-packages (from ipython>=5.3.0->pyvis) (3.0.38)\n",
      "Requirement already satisfied: pygments>=2.4.0 in /usr/local/lib/python3.9/site-packages (from ipython>=5.3.0->pyvis) (2.15.1)\n",
      "Requirement already satisfied: stack-data in /usr/local/lib/python3.9/site-packages (from ipython>=5.3.0->pyvis) (0.6.2)\n",
      "Requirement already satisfied: traitlets>=5 in /usr/local/lib/python3.9/site-packages (from ipython>=5.3.0->pyvis) (5.9.0)\n",
      "Requirement already satisfied: pexpect>4.3 in /usr/local/lib/python3.9/site-packages (from ipython>=5.3.0->pyvis) (4.8.0)\n",
      "Requirement already satisfied: MarkupSafe>=2.0 in /usr/local/lib/python3.9/site-packages (from jinja2>=2.9.6->pyvis) (2.1.1)\n",
      "Requirement already satisfied: igraph==0.11.3 in ./.local/lib/python3.9/site-packages (from python-igraph>=0.10->cdlib) (0.11.3)\n",
      "Requirement already satisfied: texttable>=1.6.2 in ./.local/lib/python3.9/site-packages (from igraph==0.11.3->python-igraph>=0.10->cdlib) (1.7.0)\n",
      "Requirement already satisfied: future in ./.local/lib/python3.9/site-packages (from angelcommunity->cdlib) (0.18.3)\n",
      "Requirement already satisfied: contourpy>=1.0.1 in /usr/local/lib/python3.9/site-packages (from matplotlib->cdlib) (1.0.7)\n",
      "Requirement already satisfied: cycler>=0.10 in /usr/local/lib/python3.9/site-packages (from matplotlib->cdlib) (0.11.0)\n",
      "Requirement already satisfied: fonttools>=4.22.0 in /usr/local/lib/python3.9/site-packages (from matplotlib->cdlib) (4.39.3)\n",
      "Requirement already satisfied: kiwisolver>=1.0.1 in /usr/local/lib/python3.9/site-packages (from matplotlib->cdlib) (1.4.4)\n",
      "Requirement already satisfied: packaging>=20.0 in /usr/local/lib/python3.9/site-packages (from matplotlib->cdlib) (23.1)\n",
      "Requirement already satisfied: pillow>=6.2.0 in /usr/local/lib/python3.9/site-packages (from matplotlib->cdlib) (9.3.0)\n",
      "Requirement already satisfied: pyparsing>=2.3.1 in /usr/local/lib/python3.9/site-packages (from matplotlib->cdlib) (3.0.9)\n",
      "Requirement already satisfied: python-dateutil>=2.7 in /usr/local/lib/python3.9/site-packages (from matplotlib->cdlib) (2.8.2)\n",
      "Requirement already satisfied: importlib-resources>=3.2.0 in /usr/local/lib/python3.9/site-packages (from matplotlib->cdlib) (5.12.0)\n",
      "Requirement already satisfied: pytz>=2020.1 in /runtime-addons/cmladdon-2.0.41-b238/opt/cmladdons/python/site-packages (from pandas->cdlib) (2022.7.1)\n",
      "Requirement already satisfied: tzdata>=2022.1 in ./.local/lib/python3.9/site-packages (from pandas->cdlib) (2023.3)\n",
      "Requirement already satisfied: platformdirs>=2.5.0 in /usr/local/lib/python3.9/site-packages (from pooch->cdlib) (3.5.0)\n",
      "Requirement already satisfied: requests>=2.19.0 in /usr/local/lib/python3.9/site-packages (from pooch->cdlib) (2.31.0)\n",
      "Requirement already satisfied: Levenshtein==0.23.0 in ./.local/lib/python3.9/site-packages (from python-Levenshtein->cdlib) (0.23.0)\n",
      "Requirement already satisfied: rapidfuzz<4.0.0,>=3.1.0 in ./.local/lib/python3.9/site-packages (from Levenshtein==0.23.0->python-Levenshtein->cdlib) (3.6.1)\n",
      "Requirement already satisfied: joblib>=1.2.0 in ./.local/lib/python3.9/site-packages (from scikit-learn->cdlib) (1.3.2)\n",
      "Requirement already satisfied: threadpoolctl>=2.0.0 in ./.local/lib/python3.9/site-packages (from scikit-learn->cdlib) (3.2.0)\n",
      "Requirement already satisfied: zipp>=3.1.0 in /usr/local/lib/python3.9/site-packages (from importlib-resources>=3.2.0->matplotlib->cdlib) (3.15.0)\n",
      "Requirement already satisfied: parso<0.9.0,>=0.8.0 in /usr/local/lib/python3.9/site-packages (from jedi>=0.16->ipython>=5.3.0->pyvis) (0.8.3)\n",
      "Requirement already satisfied: ptyprocess>=0.5 in /usr/local/lib/python3.9/site-packages (from pexpect>4.3->ipython>=5.3.0->pyvis) (0.6.0)\n",
      "Requirement already satisfied: wcwidth in /usr/local/lib/python3.9/site-packages (from prompt-toolkit<3.1.0,>=3.0.30->ipython>=5.3.0->pyvis) (0.2.5)\n",
      "Requirement already satisfied: six>=1.5 in /usr/local/lib/python3.9/site-packages (from python-dateutil>=2.7->matplotlib->cdlib) (1.16.0)\n",
      "Requirement already satisfied: charset-normalizer<4,>=2 in /usr/local/lib/python3.9/site-packages (from requests>=2.19.0->pooch->cdlib) (3.1.0)\n",
      "Requirement already satisfied: idna<4,>=2.5 in /usr/local/lib/python3.9/site-packages (from requests>=2.19.0->pooch->cdlib) (2.10)\n",
      "Requirement already satisfied: urllib3<3,>=1.21.1 in /usr/local/lib/python3.9/site-packages (from requests>=2.19.0->pooch->cdlib) (1.26.6)\n",
      "Requirement already satisfied: certifi>=2017.4.17 in /usr/local/lib/python3.9/site-packages (from requests>=2.19.0->pooch->cdlib) (2023.7.22)\n",
      "Requirement already satisfied: executing>=1.2.0 in /usr/local/lib/python3.9/site-packages (from stack-data->ipython>=5.3.0->pyvis) (1.2.0)\n",
      "Requirement already satisfied: asttokens>=2.1.0 in /usr/local/lib/python3.9/site-packages (from stack-data->ipython>=5.3.0->pyvis) (2.2.1)\n",
      "Requirement already satisfied: pure-eval in /usr/local/lib/python3.9/site-packages (from stack-data->ipython>=5.3.0->pyvis) (0.2.2)\n",
      "Building wheels for collected packages: infomap\n",
      "  Building wheel for infomap (setup.py) ... \u001b[?25ldone\n",
      "\u001b[?25h  Created wheel for infomap: filename=infomap-2.7.1-cp39-cp39-linux_x86_64.whl size=8937064 sha256=6bbcef8911a83f98c4793f7e0bd3dc4e1e2e49a8ce6255a56581750f5eecd805\n",
      "  Stored in directory: /home/cdsw/.cache/pip/wheels/14/8e/25/5db748041f876961cdd54eb8ff1a8852d3b3428e60d30ee581\n",
      "Successfully built infomap\n",
      "Installing collected packages: infomap\n",
      "Successfully installed infomap-2.7.1\n"
     ]
    }
   ],
   "source": [
    "!pip install cdlib pyvis networkx infomap\n"
   ]
  },
  {
   "cell_type": "code",
   "execution_count": null,
   "id": "4f3f52a5-162b-4b7e-8fcd-2fc9c07c8fa5",
   "metadata": {},
   "outputs": [],
   "source": [
    "!pip install pyspark_dist_explore"
   ]
  }
 ],
 "metadata": {
  "kernelspec": {
   "display_name": "Python 3 (ipykernel)",
   "language": "python",
   "name": "python3"
  },
  "language_info": {
   "codemirror_mode": {
    "name": "ipython",
    "version": 3
   },
   "file_extension": ".py",
   "mimetype": "text/x-python",
   "name": "python",
   "nbconvert_exporter": "python",
   "pygments_lexer": "ipython3",
   "version": "3.10.13"
  }
 },
 "nbformat": 4,
 "nbformat_minor": 5
}
