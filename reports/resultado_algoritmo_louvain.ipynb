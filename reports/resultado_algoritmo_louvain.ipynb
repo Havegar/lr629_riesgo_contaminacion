{
 "cells": [
  {
   "cell_type": "markdown",
   "id": "68ca5f69-0e59-42ef-8c7c-fa924815a7fb",
   "metadata": {},
   "source": [
    "### Revision de algoritmos\n",
    "En este notebook analizaremos los resultados de los algoritmos de busqueda de comunidades. Revisaremos los outputs de los diferentes codigos. "
   ]
  },
  {
   "cell_type": "code",
   "execution_count": 2,
   "id": "0859dd7e-5bfe-42d2-a968-3141e4450a17",
   "metadata": {
    "tags": []
   },
   "outputs": [
    {
     "data": {
      "text/plain": [
       "'/home/cdsw/reports'"
      ]
     },
     "execution_count": 2,
     "metadata": {},
     "output_type": "execute_result"
    }
   ],
   "source": [
    "import pandas as pd\n",
    "import os\n",
    "directorio_actual = os.getcwd()\n",
    "directorio_actual"
   ]
  },
  {
   "cell_type": "markdown",
   "id": "ad1e755f-8300-430f-a2dd-59a0e5a85784",
   "metadata": {},
   "source": [
    "### Base y relaciones\n",
    "En primer lugar, veremos la composicion de la base en cuanto a entidades y relaciones. "
   ]
  },
  {
   "cell_type": "code",
   "execution_count": 3,
   "id": "eed2b4e6-24d1-4b9d-8067-89d0497f7417",
   "metadata": {
    "tags": []
   },
   "outputs": [],
   "source": [
    "df=pd.read_csv('/home/cdsw/data/processed/contaminados_processed_iva_representante_total_with_labels.csv')"
   ]
  },
  {
   "cell_type": "code",
   "execution_count": 5,
   "id": "23a9cf1a-4675-4452-b1bd-f6e342088bd9",
   "metadata": {
    "tags": []
   },
   "outputs": [
    {
     "data": {
      "text/plain": [
       "(4538742, 10)"
      ]
     },
     "execution_count": 5,
     "metadata": {},
     "output_type": "execute_result"
    }
   ],
   "source": [
    "df.shape"
   ]
  },
  {
   "cell_type": "code",
   "execution_count": 6,
   "id": "ea0b3511-5022-4e7d-ab14-3ef26475e227",
   "metadata": {
    "tags": []
   },
   "outputs": [],
   "source": [
    "df2=pd.read_csv('/home/cdsw/data/processed/fuerza_iva_representante.csv')"
   ]
  },
  {
   "cell_type": "code",
   "execution_count": null,
   "id": "fa564414-bf83-4255-8a19-dc65d9525c2f",
   "metadata": {
    "tags": []
   },
   "outputs": [],
   "source": [
    "df2"
   ]
  },
  {
   "cell_type": "code",
   "execution_count": 10,
   "id": "3a91a942-47ee-44f2-8c6f-f921a0b04105",
   "metadata": {
    "tags": []
   },
   "outputs": [],
   "source": [
    "filtered_df = df.groupby('comunidad').filter(lambda x: len(x) >=15)\n",
    "#grupos con mas de 15 integrantes"
   ]
  },
  {
   "cell_type": "code",
   "execution_count": 11,
   "id": "af8abecf-a31c-46d9-b7e3-e462d494fead",
   "metadata": {
    "tags": []
   },
   "outputs": [],
   "source": [
    "# Agrupa por 'comunidad' y calcula el promedio del 'score' para cada grupo\n",
    "grouped_df = filtered_df.groupby('comunidad')['score'].mean().reset_index()\n",
    "# Ordena el DataFrame resultante por el promedio del 'score' de mayor a menor\n",
    "sorted_df = grouped_df.sort_values(by='score', ascending=False)"
   ]
  },
  {
   "cell_type": "code",
   "execution_count": 12,
   "id": "980a6b36-d2e7-4b6c-a09b-51eebe98a2cb",
   "metadata": {
    "tags": []
   },
   "outputs": [
    {
     "name": "stdout",
     "output_type": "stream",
     "text": [
      "Grupos con mayores scores promedio:\n",
      "       comunidad     score\n",
      "17883    17884.0  0.997926\n",
      "5772      5773.0  0.997513\n",
      "14384    14385.0  0.996612\n",
      "15495    15496.0  0.962485\n",
      "7196      7197.0  0.962064\n"
     ]
    }
   ],
   "source": [
    "# Imprime los grupos con los mayores scores promedio\n",
    "print(\"Grupos con mayores scores promedio:\")\n",
    "print(sorted_df.head())"
   ]
  },
  {
   "cell_type": "code",
   "execution_count": 13,
   "id": "598a0500-7eb7-4d1e-8372-8104ac9c52d3",
   "metadata": {
    "tags": []
   },
   "outputs": [],
   "source": [
    "import matplotlib.pyplot as plt\n",
    "import seaborn as sns"
   ]
  },
  {
   "cell_type": "code",
   "execution_count": 17,
   "id": "c22fbc57-6671-4211-9b0e-dd7a9a10b36c",
   "metadata": {},
   "outputs": [
    {
     "name": "stdout",
     "output_type": "stream",
     "text": [
      "Para la comunidad '17884.0':\n",
      "El score promedio es '0.9979255772348077':\n",
      " - El tamaño del grupo es 15.\n",
      " -Las alertas iniciales son '1' y su porcentaje en el grupo es de '6.666666666666667' .\n",
      " - El valor que más se repite en la columna 'unidad_regional' es 'SANTIAGO PONIENTE' con 3 ocurrencias.\n",
      " - Estadísticas para las otras columnas:\n",
      "           score  total_pago_f29      IVA_neto  n_documentos  lifetime  \\\n",
      "count  15.000000             0.0  1.500000e+01           1.0       1.0   \n",
      "mean    0.997926             NaN -8.446451e+05          31.0     707.0   \n",
      "std     0.005671             NaN  3.056802e+07           NaN       NaN   \n",
      "min     0.980522             NaN -1.110065e+08          31.0     707.0   \n",
      "25%     1.000000             NaN  5.415786e+06          31.0     707.0   \n",
      "50%     1.000000             NaN  7.030284e+06          31.0     707.0   \n",
      "75%     1.000000             NaN  7.394800e+06          31.0     707.0   \n",
      "max     1.000000             NaN  1.307010e+07          31.0     707.0   \n",
      "\n",
      "       alerta_inicial   modularidad  \n",
      "count       15.000000  1.500000e+01  \n",
      "mean         0.066667  7.898151e-01  \n",
      "std          0.258199  1.149190e-16  \n",
      "min          0.000000  7.898151e-01  \n",
      "25%          0.000000  7.898151e-01  \n",
      "50%          0.000000  7.898151e-01  \n",
      "75%          0.000000  7.898151e-01  \n",
      "max          1.000000  7.898151e-01  \n",
      "\n",
      "\n"
     ]
    },
    {
     "data": {
      "image/png": "[encoded data removed]",
      "text/plain": [
       "<Figure size 432x288 with 1 Axes>"
      ]
     },
     "metadata": {
      "needs_background": "light"
     },
     "output_type": "display_data"
    },
    {
     "name": "stdout",
     "output_type": "stream",
     "text": [
      "Para la comunidad '5773.0':\n",
      "El score promedio es '0.9975126781559567':\n",
      " - El tamaño del grupo es 56.\n",
      " -Las alertas iniciales son '1' y su porcentaje en el grupo es de '1.7857142857142856' .\n",
      " - El valor que más se repite en la columna 'unidad_regional' es '5TA UNIDAD REGIONAL VALPARAISO' con 23 ocurrencias.\n",
      " - Estadísticas para las otras columnas:\n",
      "           score  total_pago_f29      IVA_neto  n_documentos  lifetime  \\\n",
      "count  56.000000             0.0  5.600000e+01           1.0       0.0   \n",
      "mean    0.997513             NaN -7.595412e+04         670.0       NaN   \n",
      "std     0.018587             NaN  1.280158e+06           NaN       NaN   \n",
      "min     0.860905             NaN -9.244608e+06         670.0       NaN   \n",
      "25%     1.000000             NaN  2.215900e+04         670.0       NaN   \n",
      "50%     1.000000             NaN  2.420450e+04         670.0       NaN   \n",
      "75%     1.000000             NaN  2.834025e+04         670.0       NaN   \n",
      "max     1.000000             NaN  1.771419e+06         670.0       NaN   \n",
      "\n",
      "       alerta_inicial   modularidad  \n",
      "count       56.000000  5.600000e+01  \n",
      "mean         0.017857  7.898151e-01  \n",
      "std          0.133631  1.120270e-16  \n",
      "min          0.000000  7.898151e-01  \n",
      "25%          0.000000  7.898151e-01  \n",
      "50%          0.000000  7.898151e-01  \n",
      "75%          0.000000  7.898151e-01  \n",
      "max          1.000000  7.898151e-01  \n",
      "\n",
      "\n"
     ]
    },
    {
     "data": {
      "image/png": "[encoded data removed]",
      "text/plain": [
       "<Figure size 432x288 with 1 Axes>"
      ]
     },
     "metadata": {
      "needs_background": "light"
     },
     "output_type": "display_data"
    },
    {
     "name": "stdout",
     "output_type": "stream",
     "text": [
      "Para la comunidad '14385.0':\n",
      "El score promedio es '0.9966117072971504':\n",
      " - El tamaño del grupo es 19.\n",
      " -Las alertas iniciales son '3' y su porcentaje en el grupo es de '15.789473684210526' .\n",
      " - El valor que más se repite en la columna 'unidad_regional' es 'SANTIAGO CENTRO' con 6 ocurrencias.\n",
      " - Estadísticas para las otras columnas:\n",
      "           score  total_pago_f29      IVA_neto  n_documentos   lifetime  \\\n",
      "count  19.000000    2.000000e+00  1.900000e+01      5.000000    5.00000   \n",
      "mean    0.996612    3.152691e+06 -1.015741e+07     76.000000  597.20000   \n",
      "std     0.014670    4.343367e+06  2.796501e+07     45.359674   52.93581   \n",
      "min     0.936033    8.146700e+04 -9.154710e+07     15.000000  566.00000   \n",
      "25%     0.999969    1.617079e+06 -7.154220e+05     72.000000  567.00000   \n",
      "50%     0.999969    3.152691e+06  8.080000e+02     74.000000  581.00000   \n",
      "75%     1.000000    4.688303e+06  1.806550e+04     76.000000  581.00000   \n",
      "max     1.000034    6.223915e+06  2.146701e+07    143.000000  691.00000   \n",
      "\n",
      "       alerta_inicial   modularidad  \n",
      "count       19.000000  1.900000e+01  \n",
      "mean         0.157895  7.898151e-01  \n",
      "std          0.374634  1.140646e-16  \n",
      "min          0.000000  7.898151e-01  \n",
      "25%          0.000000  7.898151e-01  \n",
      "50%          0.000000  7.898151e-01  \n",
      "75%          0.000000  7.898151e-01  \n",
      "max          1.000000  7.898151e-01  \n",
      "\n",
      "\n"
     ]
    },
    {
     "data": {
      "image/png": "[encoded data removed]",
      "text/plain": [
       "<Figure size 432x288 with 1 Axes>"
      ]
     },
     "metadata": {
      "needs_background": "light"
     },
     "output_type": "display_data"
    },
    {
     "name": "stdout",
     "output_type": "stream",
     "text": [
      "Para la comunidad '15496.0':\n",
      "El score promedio es '0.9624852290065713':\n",
      " - El tamaño del grupo es 18.\n",
      " -Las alertas iniciales son '1' y su porcentaje en el grupo es de '5.555555555555555' .\n",
      " - El valor que más se repite en la columna 'unidad_regional' es '1RA UNIDAD REGIONAL IQUIQUE' con 6 ocurrencias.\n",
      " - Estadísticas para las otras columnas:\n",
      "           score  total_pago_f29      IVA_neto  n_documentos  lifetime  \\\n",
      "count  18.000000             0.0  1.800000e+01           1.0       1.0   \n",
      "mean    0.962485             NaN -6.275750e+04        2438.0    3088.0   \n",
      "std     0.078880             NaN  5.880981e+06           NaN       NaN   \n",
      "min     0.728136             NaN -1.852188e+07        2438.0    3088.0   \n",
      "25%     0.981193             NaN  1.672450e+04        2438.0    3088.0   \n",
      "50%     1.000000             NaN  5.458000e+04        2438.0    3088.0   \n",
      "75%     1.000000             NaN  1.198205e+05        2438.0    3088.0   \n",
      "max     1.000000             NaN  1.563033e+07        2438.0    3088.0   \n",
      "\n",
      "       alerta_inicial   modularidad  \n",
      "count       18.000000  1.800000e+01  \n",
      "mean         0.055556  7.898151e-01  \n",
      "std          0.235702  1.142410e-16  \n",
      "min          0.000000  7.898151e-01  \n",
      "25%          0.000000  7.898151e-01  \n",
      "50%          0.000000  7.898151e-01  \n",
      "75%          0.000000  7.898151e-01  \n",
      "max          1.000000  7.898151e-01  \n",
      "\n",
      "\n"
     ]
    },
    {
     "data": {
      "image/png": "[encoded data removed]",
      "text/plain": [
       "<Figure size 432x288 with 1 Axes>"
      ]
     },
     "metadata": {
      "needs_background": "light"
     },
     "output_type": "display_data"
    },
    {
     "name": "stdout",
     "output_type": "stream",
     "text": [
      "Para la comunidad '7197.0':\n",
      "El score promedio es '0.9620642733502436':\n",
      " - El tamaño del grupo es 44.\n",
      " -Las alertas iniciales son '18' y su porcentaje en el grupo es de '40.909090909090914' .\n",
      " - El valor que más se repite en la columna 'unidad_regional' es '5TA UNIDAD REGIONAL VALPARAISO' con 17 ocurrencias.\n",
      " - Estadísticas para las otras columnas:\n",
      "           score  total_pago_f29      IVA_neto  n_documentos     lifetime  \\\n",
      "count  44.000000             1.0  4.400000e+01       5.00000     5.000000   \n",
      "mean    0.962064        954420.0 -3.274076e+06      79.60000   781.200000   \n",
      "std     0.090066             NaN  2.424373e+07      98.76386   538.286355   \n",
      "min     0.526146        954420.0 -1.603239e+08       4.00000   434.000000   \n",
      "25%     0.974598        954420.0  1.337410e+05       5.00000   489.000000   \n",
      "50%     0.987807        954420.0  2.745090e+05      18.00000   567.000000   \n",
      "75%     1.000000        954420.0  4.239708e+05     158.00000   687.000000   \n",
      "max     1.000000        954420.0  3.101503e+06     213.00000  1729.000000   \n",
      "\n",
      "       alerta_inicial   modularidad  \n",
      "count       44.000000  4.400000e+01  \n",
      "mean         0.409091  7.898151e-01  \n",
      "std          0.497350  2.246117e-16  \n",
      "min          0.000000  7.898151e-01  \n",
      "25%          0.000000  7.898151e-01  \n",
      "50%          0.000000  7.898151e-01  \n",
      "75%          1.000000  7.898151e-01  \n",
      "max          1.000000  7.898151e-01  \n",
      "\n",
      "\n"
     ]
    },
    {
     "data": {
      "image/png": "[encoded data removed]",
      "text/plain": [
       "<Figure size 432x288 with 1 Axes>"
      ]
     },
     "metadata": {
      "needs_background": "light"
     },
     "output_type": "display_data"
    }
   ],
   "source": [
    "# Obtener las cinco comunidades con los mayores scores promedio\n",
    "top_communities = sorted_df.head(5)['comunidad']\n",
    "\n",
    "# Iterar sobre cada una de las cinco comunidades\n",
    "for community in top_communities:\n",
    "    # Filtrar el DataFrame original para la comunidad actual\n",
    "    community_df = filtered_df[filtered_df['comunidad'] == community]\n",
    "    # Obtener el tamaño del grupo (número total de filas)\n",
    "    group_size = len(community_df)\n",
    "    # Contar la frecuencia de cada valor de 'unidad_regional' dentro de la comunidad\n",
    "    value_counts = community_df['unidad_regional'].value_counts()\n",
    "    # Calcular el promedio de 'score' para la comunidad actual\n",
    "    score_mean_community = community_df['score'].mean()    \n",
    "    # Calcular la suma de alertas iniciales en el grupo y su %\n",
    "    alertas_iniciales = community_df['alerta_inicial'].sum()   \n",
    "    perc_alertas=100*(alertas_iniciales/group_size)\n",
    "    # Obtener el valor más frecuente y su frecuencia\n",
    "    most_common_value = value_counts.idxmax()  # Valor más frecuente\n",
    "    most_common_count = value_counts.max()  # Frecuencia del valor más frecuente\n",
    "    # Calcular los estadísticos para las otras columnas\n",
    "    other_columns_stats = community_df.drop(columns=['comunidad', 'unidad_regional']).describe()\n",
    "    # Imprimir la información\n",
    "    print(f\"Para la comunidad '{community}':\")\n",
    "    print(f\"El score promedio es '{score_mean_community}':\")\n",
    "    print(f\" - El tamaño del grupo es {group_size}.\")\n",
    "    print(f\" -Las alertas iniciales son '{alertas_iniciales}' y su porcentaje en el grupo es de '{perc_alertas}' .\")\n",
    "    print(f\" - El valor que más se repite en la columna 'unidad_regional' es '{most_common_value}' con {most_common_count} ocurrencias.\")\n",
    "    print(\" - Estadísticas para las otras columnas:\")\n",
    "    print(other_columns_stats)\n",
    "    print(\"\\n\")\n",
    "    sns.histplot(data=community_df, x=\"score\", hue=\"alerta_inicial\", multiple=\"stack\", bins=10)\n",
    "    plt.show()"
   ]
  },
  {
   "cell_type": "code",
   "execution_count": null,
   "id": "34e358bc-a708-4ee4-b602-b11add735562",
   "metadata": {},
   "outputs": [],
   "source": []
  }
 ],
 "metadata": {
  "kernelspec": {
   "display_name": "Python 3 (ipykernel)",
   "language": "python",
   "name": "python3"
  },
  "language_info": {
   "codemirror_mode": {
    "name": "ipython",
    "version": 3
   },
   "file_extension": ".py",
   "mimetype": "text/x-python",
   "name": "python",
   "nbconvert_exporter": "python",
   "pygments_lexer": "ipython3",
   "version": "3.9.16"
  }
 },
 "nbformat": 4,
 "nbformat_minor": 5
}
