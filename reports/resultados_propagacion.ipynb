{
 "cells": [
  {
   "cell_type": "markdown",
   "id": "06620001-fd03-4bda-b4b2-9eb8e270eace",
   "metadata": {},
   "source": [
    "## Apiux & SII: Propagacion de contaminacion de contribuyentes bajo 3 definicions de fuerza\n",
    "\n",
    "## Henry Vega (henrry.vega@api-ux.com)\n",
    "## Data scientist"
   ]
  },
  {
   "cell_type": "markdown",
   "id": "b360f0b8-f3f7-4c79-90b5-13d35344bc80",
   "metadata": {
    "tags": []
   },
   "source": [
    "<span style=\"color:red\">-----------------------------------------------------------------------------------------------------------------------------------------</span>"
   ]
  },
  {
   "cell_type": "markdown",
   "id": "2be45f79-f231-4cb2-96eb-5d0315366ece",
   "metadata": {},
   "source": [
    "Se ejecutaron algoritmos para buscar bajo una serie 15 iteraciones, en tres escenarios de fuerza diferentes:\n",
    "    \n",
    "**1.-Fuerza correspondiente a la fraccion de IVA de un contribuyente A en un contribuyente B respecto al total de IVA de todos los contribuyente emisores sobre B.**\n",
    "\n",
    "**2.-Fuerza correspondiente al promedio de la fraccion de monto de IVA de un contribuyente A con respecto al total y de la fraccion de documentos emitidos en un contribuyente A respecto al total considerando si B tenia como representante legal una persona contaminada.** \n",
    "\n",
    "**3.- Una fuerza promedio de las dos fuerzas anteriormente definidas.**"
   ]
  },
  {
   "cell_type": "markdown",
   "id": "62e2e818-3c2e-4727-84cc-2821f560e7d8",
   "metadata": {},
   "source": [
    "A partir de estas fuerzas se ejecutaron algoritmos ante lo cual se encontraron diferentes poblaciones de entidades contaminadas. "
   ]
  },
  {
   "cell_type": "markdown",
   "id": "a01c0be8-7820-44ff-97e0-6bc777830cf3",
   "metadata": {},
   "source": [
    "## Propagacion de contaminacion basado solo en IVA"
   ]
  },
  {
   "cell_type": "code",
   "execution_count": 2,
   "id": "3025dbb1-2e25-411b-ba25-63a3c5170a5f",
   "metadata": {
    "tags": []
   },
   "outputs": [],
   "source": [
    "import pandas as pd\n",
    "import seaborn as sns\n",
    "import matplotlib as plt\n",
    "df1 = pd.read_csv(\"~/data/processed/contaminados_processed_iva.csv\")"
   ]
  },
  {
   "cell_type": "code",
   "execution_count": 7,
   "id": "9129a5dd-96ed-47a6-99eb-5a92f8f509b8",
   "metadata": {
    "tags": []
   },
   "outputs": [
    {
     "data": {
      "text/plain": [
       "count    4.305873e+06\n",
       "mean     6.889945e-02\n",
       "std      5.962251e-02\n",
       "min      5.496027e-06\n",
       "25%      5.239466e-02\n",
       "50%      5.799685e-02\n",
       "75%      6.724050e-02\n",
       "max      1.000325e+00\n",
       "Name: score, dtype: float64"
      ]
     },
     "execution_count": 7,
     "metadata": {},
     "output_type": "execute_result"
    }
   ],
   "source": [
    "df1['score'][df1['score']>0].describe()"
   ]
  },
  {
   "cell_type": "markdown",
   "id": "4ad9f677-d86a-4ec3-87a5-ff9758a0943d",
   "metadata": {},
   "source": [
    "Anlicemos todos los valores mayores que cero, que serian los encontrados. Vemos que la curva de distribucion de valores tiene una media y mediana muy bajas, incluso el tercer cuartil es muy cercano a cero."
   ]
  },
  {
   "cell_type": "code",
   "execution_count": 6,
   "id": "932dc06b-c43d-4238-ba2e-210d2f4d6724",
   "metadata": {
    "tags": []
   },
   "outputs": [
    {
     "data": {
      "text/plain": [
       "<Axes: xlabel='score', ylabel='Density'>"
      ]
     },
     "execution_count": 6,
     "metadata": {},
     "output_type": "execute_result"
    },
    {
     "data": {
      "image/png": "[encoded data removed]",
      "text/plain": [
       "<Figure size 720x360 with 1 Axes>"
      ]
     },
     "metadata": {
      "needs_background": "light"
     },
     "output_type": "display_data"
    }
   ],
   "source": [
    "plt.rcParams[\"figure.figsize\"]=10,5\n",
    "sns.histplot(x=df1['score'][df1['score']>0], stat=\"density\", bins=100, edgecolor='black')"
   ]
  },
  {
   "cell_type": "markdown",
   "id": "a43ac716-c4fe-4116-8965-80ae2f1b0d74",
   "metadata": {},
   "source": [
    "El grafico de distribucion muestra claramente esta situacion. En su mayoria los valores de contaminacion transmitida es cercana a cero."
   ]
  },
  {
   "cell_type": "markdown",
   "id": "aa1a9d57-a5b8-4d37-b42f-dde3097d7f46",
   "metadata": {},
   "source": [
    "## Propagacion de contaminacion basado en fraccion de IVA y contaminacion asociada a transaccion con representante contaminado"
   ]
  },
  {
   "cell_type": "code",
   "execution_count": 9,
   "id": "0daede8e-ba2f-4c51-ad42-6b5ef416fbc0",
   "metadata": {},
   "outputs": [
    {
     "data": {
      "text/plain": [
       "count    3.302000e+03\n",
       "mean     1.341092e-01\n",
       "std      2.648089e-01\n",
       "min      3.154197e-12\n",
       "25%      2.507593e-04\n",
       "50%      9.177406e-03\n",
       "75%      1.111111e-01\n",
       "max      1.000101e+00\n",
       "Name: score, dtype: float64"
      ]
     },
     "execution_count": 9,
     "metadata": {},
     "output_type": "execute_result"
    }
   ],
   "source": [
    "df2 = pd.read_csv(\"~/data/processed/contaminados_processed_representante.csv\")\n",
    "df2['score'][df2['score']>0].describe()"
   ]
  },
  {
   "cell_type": "markdown",
   "id": "4887f2b0-245f-4ade-a8a3-6bf6fb992abf",
   "metadata": {},
   "source": [
    "Vemos que en este caso es mucho menor la contaminacion a entidades cercanas comercialmente, esto se debe a que en comparacion con el escenario anterior, las fuerzas diferentes de cero. "
   ]
  },
  {
   "cell_type": "code",
   "execution_count": 10,
   "id": "f6906543-40f9-4bdf-8036-48322266dbf2",
   "metadata": {
    "tags": []
   },
   "outputs": [
    {
     "data": {
      "text/plain": [
       "<Axes: xlabel='score', ylabel='Density'>"
      ]
     },
     "execution_count": 10,
     "metadata": {},
     "output_type": "execute_result"
    },
    {
     "data": {
      "image/png": "[encoded data removed]",
      "text/plain": [
       "<Figure size 720x360 with 1 Axes>"
      ]
     },
     "metadata": {
      "needs_background": "light"
     },
     "output_type": "display_data"
    }
   ],
   "source": [
    "sns.histplot(x=df2['score'][df2['score']>0], stat=\"density\", bins=100, edgecolor='black')"
   ]
  },
  {
   "cell_type": "markdown",
   "id": "90ea402a-c8a5-4932-b5db-6eb89057d8d1",
   "metadata": {},
   "source": [
    "Se evidencia en la distribucion de valores que la gran mayoria de valores encontrados son cercanos a cero."
   ]
  },
  {
   "cell_type": "markdown",
   "id": "c5ffc51d-26d6-4334-8f7f-d73f5df9f373",
   "metadata": {},
   "source": [
    "## Propagacion de contaminacion basado tanto en IVA como contaminacion asociada a transaccion con representante contaminado"
   ]
  },
  {
   "cell_type": "code",
   "execution_count": 11,
   "id": "41fea82c-0740-4843-9acd-829e988e4c8a",
   "metadata": {
    "tags": []
   },
   "outputs": [
    {
     "data": {
      "text/plain": [
       "count    4.308497e+06\n",
       "mean     3.773635e-02\n",
       "std      5.881050e-02\n",
       "min      5.566891e-06\n",
       "25%      2.249276e-02\n",
       "50%      2.695641e-02\n",
       "75%      3.515471e-02\n",
       "max      1.000386e+00\n",
       "Name: score, dtype: float64"
      ]
     },
     "execution_count": 11,
     "metadata": {},
     "output_type": "execute_result"
    }
   ],
   "source": [
    "df3 = pd.read_csv(\"~/data/processed/contaminados_processed_iva_representante.csv\")\n",
    "df3['score'][df3['score']>0].describe()"
   ]
  },
  {
   "cell_type": "markdown",
   "id": "b09eb54d-23bf-4e92-8ca5-219c75241f31",
   "metadata": {
    "tags": []
   },
   "source": [
    "Podemos ver que como en este caso se uso una fuerza promedio entre las dos anteriores, el comportamiento es similar al caso de la fuerza de solo IVA, pues la cantidad de registros de fuerza es mucho mayor. "
   ]
  },
  {
   "cell_type": "code",
   "execution_count": 12,
   "id": "80edefab-d7f6-40f1-9e84-7ee068a8d883",
   "metadata": {
    "tags": []
   },
   "outputs": [
    {
     "data": {
      "text/plain": [
       "<Axes: xlabel='score', ylabel='Density'>"
      ]
     },
     "execution_count": 12,
     "metadata": {},
     "output_type": "execute_result"
    },
    {
     "data": {
      "image/png": "[encoded data removed]",
      "text/plain": [
       "<Figure size 720x360 with 1 Axes>"
      ]
     },
     "metadata": {
      "needs_background": "light"
     },
     "output_type": "display_data"
    }
   ],
   "source": [
    "sns.histplot(x=df3['score'][df3['score']>0], stat=\"density\", bins=100, edgecolor='black')"
   ]
  },
  {
   "cell_type": "markdown",
   "id": "0e4b3d16-5d69-4acb-916f-fedf2e26cd4f",
   "metadata": {},
   "source": [
    "En este caso vemos que nuevamente la fuerza de IVA es predominante y por lo tanto, a pesar de ser la mayoria de los valores cercanos a cero, mas valores mayores a 0.5 aparecen. "
   ]
  },
  {
   "cell_type": "markdown",
   "id": "6a100646-1c8c-4828-83c9-c83514111c07",
   "metadata": {},
   "source": [
    "## Distribucion para scoring mayores que 0.5"
   ]
  },
  {
   "cell_type": "markdown",
   "id": "3916e6e9-33ff-4692-92da-afb5d294c192",
   "metadata": {},
   "source": [
    "###  Fuerza de solo IVA."
   ]
  },
  {
   "cell_type": "code",
   "execution_count": 9,
   "id": "b1bcdf15-5c75-4a6f-bad6-e46b49c991a7",
   "metadata": {
    "tags": []
   },
   "outputs": [
    {
     "data": {
      "text/plain": [
       "<Axes: xlabel='score', ylabel='Density'>"
      ]
     },
     "execution_count": 9,
     "metadata": {},
     "output_type": "execute_result"
    },
    {
     "data": {
      "image/png": "[encoded data removed]",
      "text/plain": [
       "<Figure size 432x288 with 1 Axes>"
      ]
     },
     "metadata": {
      "needs_background": "light"
     },
     "output_type": "display_data"
    }
   ],
   "source": [
    "sns.kdeplot(df1['score'][df1['score']>=0.5])\n",
    "sns.histplot(x=df1['score'][df1['score']>=0.5], stat=\"density\", bins=100, edgecolor='black')\n"
   ]
  },
  {
   "cell_type": "code",
   "execution_count": 10,
   "id": "5bd06406-a13c-410e-b097-dcb5a053add7",
   "metadata": {
    "tags": []
   },
   "outputs": [
    {
     "data": {
      "text/plain": [
       "count    17911.000000\n",
       "mean         0.777845\n",
       "std          0.174151\n",
       "min          0.500028\n",
       "25%          0.613254\n",
       "50%          0.770217\n",
       "75%          0.969538\n",
       "max          1.000325\n",
       "Name: score, dtype: float64"
      ]
     },
     "execution_count": 10,
     "metadata": {},
     "output_type": "execute_result"
    }
   ],
   "source": [
    "df1['score'][df1['score']>=0.5].describe()"
   ]
  },
  {
   "cell_type": "markdown",
   "id": "05eefb68-4dc7-4074-a1e0-a519686699ec",
   "metadata": {},
   "source": [
    "Es decir, hay 15710 constribuyentes contaminados con valores de contaminacion mayores o iguales a 0.5"
   ]
  },
  {
   "cell_type": "markdown",
   "id": "af9dd1ac-8371-47a6-a2ff-75d9f69f260a",
   "metadata": {},
   "source": [
    "### Fuerza de solo contaminacion asociada a transaccion con representante contaminado."
   ]
  },
  {
   "cell_type": "code",
   "execution_count": 11,
   "id": "4fb69e9d-eea2-4dca-bb3d-8c4d788fb90a",
   "metadata": {
    "tags": []
   },
   "outputs": [
    {
     "data": {
      "text/plain": [
       "<Axes: xlabel='score', ylabel='Density'>"
      ]
     },
     "execution_count": 11,
     "metadata": {},
     "output_type": "execute_result"
    },
    {
     "data": {
      "image/png": "[encoded data removed]",
      "text/plain": [
       "<Figure size 432x288 with 1 Axes>"
      ]
     },
     "metadata": {
      "needs_background": "light"
     },
     "output_type": "display_data"
    }
   ],
   "source": [
    "sns.kdeplot(df2['score'][df2['score']>=0.5])\n",
    "sns.histplot(x=df2['score'][df2['score']>=0.5], stat=\"density\", bins=100, edgecolor='black')"
   ]
  },
  {
   "cell_type": "code",
   "execution_count": 12,
   "id": "77d31179-5085-423f-b670-66582b20ae8b",
   "metadata": {
    "tags": []
   },
   "outputs": [
    {
     "data": {
      "text/plain": [
       "count    366.000000\n",
       "mean       0.810674\n",
       "std        0.215254\n",
       "min        0.500000\n",
       "25%        0.573107\n",
       "50%        0.998516\n",
       "75%        1.000000\n",
       "max        1.000101\n",
       "Name: score, dtype: float64"
      ]
     },
     "execution_count": 12,
     "metadata": {},
     "output_type": "execute_result"
    }
   ],
   "source": [
    "df2['score'][df2['score']>=0.5].describe()"
   ]
  },
  {
   "cell_type": "markdown",
   "id": "280430f0-657b-45e0-a362-c8a090f6224d",
   "metadata": {},
   "source": [
    "Es decir, hay 10198 constribuyentes contaminados con valores de contaminacion mayores o iguales a 0.5"
   ]
  },
  {
   "cell_type": "markdown",
   "id": "8963f39b-babb-488f-9e00-3a5778eb6822",
   "metadata": {},
   "source": [
    "### Fuerza promedio de fuerzas previas (IVA + contaminacion asociada a transaccion con representante contaminado)."
   ]
  },
  {
   "cell_type": "code",
   "execution_count": 13,
   "id": "25d7207a-41e1-4735-aafc-3c2b134f92d3",
   "metadata": {
    "tags": []
   },
   "outputs": [
    {
     "data": {
      "text/plain": [
       "<Axes: xlabel='score', ylabel='Density'>"
      ]
     },
     "execution_count": 13,
     "metadata": {},
     "output_type": "execute_result"
    },
    {
     "data": {
      "image/png": "[encoded data removed]",
      "text/plain": [
       "<Figure size 432x288 with 1 Axes>"
      ]
     },
     "metadata": {
      "needs_background": "light"
     },
     "output_type": "display_data"
    }
   ],
   "source": [
    "sns.kdeplot(df3['score'][df3['score']>=0.5])\n",
    "sns.histplot(x=df3['score'][df3['score']>=0.5], stat=\"density\", bins=100, edgecolor='black')"
   ]
  },
  {
   "cell_type": "code",
   "execution_count": 14,
   "id": "68f13596-f198-4ed1-bede-1c72c82cfb2f",
   "metadata": {},
   "outputs": [
    {
     "data": {
      "text/plain": [
       "count    15710.000000\n",
       "mean         0.783062\n",
       "std          0.176817\n",
       "min          0.500000\n",
       "25%          0.612993\n",
       "50%          0.779139\n",
       "75%          0.984461\n",
       "max          1.000386\n",
       "Name: score, dtype: float64"
      ]
     },
     "execution_count": 14,
     "metadata": {},
     "output_type": "execute_result"
    }
   ],
   "source": [
    "df3['score'][df3['score']>=0.5].describe()"
   ]
  },
  {
   "cell_type": "markdown",
   "id": "9ecc3029-d6c8-435d-a228-7735f7264274",
   "metadata": {},
   "source": [
    "A partir de los modelos desarrollados, se puede concluir que el modelo de promedio de fuerzas tiene la suma de las capacidades de cada modelo con cada fuerza por separado para propagar contaminacion. Por otro lado, presenta una leve mejora en relacion al total de entidades a las cuales se les propaga contaminacion, sin embargo, la cantidad de valores de contaminacion mayor o igual a 0.5 son menores en cantidad en comparacion a la suma de valores encontrado en cada modelo de fuerza por separado. "
   ]
  },
  {
   "cell_type": "code",
   "execution_count": null,
   "id": "e00cec4e-0cb2-477a-9ceb-f308987ddb18",
   "metadata": {},
   "outputs": [],
   "source": []
  }
 ],
 "metadata": {
  "kernelspec": {
   "display_name": "Python 3 (ipykernel)",
   "language": "python",
   "name": "python3"
  },
  "language_info": {
   "codemirror_mode": {
    "name": "ipython",
    "version": 3
   },
   "file_extension": ".py",
   "mimetype": "text/x-python",
   "name": "python",
   "nbconvert_exporter": "python",
   "pygments_lexer": "ipython3",
   "version": "3.9.16"
  }
 },
 "nbformat": 4,
 "nbformat_minor": 5
}
